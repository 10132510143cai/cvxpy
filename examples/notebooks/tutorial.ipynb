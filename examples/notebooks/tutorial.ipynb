{
 "metadata": {
  "name": ""
 },
 "nbformat": 3,
 "nbformat_minor": 0,
 "worksheets": [
  {
   "cells": [
    {
     "cell_type": "heading",
     "level": 1,
     "metadata": {},
     "source": [
      "What is CVXPY?"
     ]
    },
    {
     "cell_type": "markdown",
     "metadata": {},
     "source": [
      "CVXPY is a Python-embedded modeling language for convex optimization problems. CVXPY allows you to express your problem in a natural way. It automatically transforms the problem into standard form, calls a solver, and unpacks the results.\n",
      "\n",
      "The code below solves a simple optimization problem in CVXPY:"
     ]
    },
    {
     "cell_type": "code",
     "collapsed": false,
     "input": [
      "from cvxpy import *\n",
      "\n",
      "# Create two scalar variables.\n",
      "x = Variable()\n",
      "y = Variable()\n",
      "\n",
      "# Create two constraints.\n",
      "constraints = [x + y == 1,\n",
      "               x - y >= 1]\n",
      "\n",
      "# Form objective.\n",
      "obj = Minimize(square(x - y))\n",
      "\n",
      "# Form and solve problem.\n",
      "prob = Problem(obj, constraints)\n",
      "prob.solve()  # Returns the optimal value.\n",
      "print \"status:\", prob.status\n",
      "print \"optimal value\", prob.value\n",
      "print \"optimal var\", x.value, y.value"
     ],
     "language": "python",
     "metadata": {},
     "outputs": [],
     "prompt_number": "*"
    },
    {
     "cell_type": "markdown",
     "metadata": {},
     "source": [
      "The status, which was assigned a value \"optimal\" by the solve method, tells us the problem was solved successfully. The optimal value (basically 1 here) is the minimum value of the objective over all choices of variables that satisfy the constraints. The last thing printed gives values of x and y (basically 1 and 0 respectively) that achieve the optimal objective.\n",
      "\n",
      "`prob.solve()` returns the optimal value and updates `prob.status`, `prob.value`, and the `value` field of all the variables in the problem."
     ]
    },
    {
     "cell_type": "heading",
     "level": 2,
     "metadata": {},
     "source": [
      "Changing the Problem"
     ]
    },
    {
     "cell_type": "markdown",
     "metadata": {},
     "source": [
      "After you create a problem object, you can still modify the objective and constraints."
     ]
    },
    {
     "cell_type": "code",
     "collapsed": false,
     "input": [
      "# Replace the objective.\n",
      "prob.objective = Maximize(x + y)\n",
      "print \"optimal value\", prob.solve()\n",
      "\n",
      "# Replace the constraint (x + y == 1).\n",
      "prob.constraints[0] = (x + y <= 3)\n",
      "print \"optimal value\", prob.solve()"
     ],
     "language": "python",
     "metadata": {},
     "outputs": [
      {
       "output_type": "stream",
       "stream": "stdout",
       "text": [
        "optimal value 1.0\n",
        "optimal value 3.00000000006\n"
       ]
      }
     ],
     "prompt_number": 2
    },
    {
     "cell_type": "heading",
     "level": 2,
     "metadata": {},
     "source": [
      "Infeasible and Unbounded Problems"
     ]
    },
    {
     "cell_type": "markdown",
     "metadata": {},
     "source": [
      "If a problem is infeasible or unbounded, the status field will be set to \"infeasible\" or \"unbounded\", respectively. The value fields of the problem variables are not updated."
     ]
    },
    {
     "cell_type": "code",
     "collapsed": false,
     "input": [
      "from cvxpy import *\n",
      "\n",
      "x = Variable()\n",
      "\n",
      "# An infeasible problem.\n",
      "prob = Problem(Minimize(x), [x >= 1, x <= 0])\n",
      "prob.solve()\n",
      "print \"status:\", prob.status\n",
      "print \"optimal value\", prob.value\n",
      "\n",
      "# An unbounded problem.\n",
      "prob = Problem(Minimize(x))\n",
      "prob.solve()\n",
      "print \"status:\", prob.status\n",
      "print \"optimal value\", prob.value"
     ],
     "language": "python",
     "metadata": {},
     "outputs": [
      {
       "output_type": "stream",
       "stream": "stdout",
       "text": [
        "status: infeasible\n",
        "optimal value inf\n",
        "status: unbounded\n",
        "optimal value -inf\n"
       ]
      }
     ],
     "prompt_number": 3
    },
    {
     "cell_type": "markdown",
     "metadata": {},
     "source": [
      "Notice that for a minimization problem the optimal value is `inf` if infeasible and `-inf` if unbounded. For maximization problems the opposite is true.\n",
      "\n",
      "If the solver called by CVXPY fails to solve the problem, the problem status is set to \"solver_error\" and the optimal value is `None`. See the discussion of [Solvers](#solvers) for details.\n",
      "\n",
      "CVXPY provides the constants `OPTIMAL`, `INFEASIBLE`, `UNBOUNDED`, and `SOLVER_ERROR` as aliases for the different status strings."
     ]
    },
    {
     "cell_type": "heading",
     "level": 2,
     "metadata": {},
     "source": [
      "Vectors and Matrices"
     ]
    },
    {
     "cell_type": "markdown",
     "metadata": {},
     "source": [
      "Variables can be scalars, vectors, or matrices."
     ]
    },
    {
     "cell_type": "code",
     "collapsed": false,
     "input": [
      "# A scalar variable.\n",
      "a = Variable()\n",
      "\n",
      "# Column vector variable of length 5.\n",
      "x = Variable(5)\n",
      "\n",
      "# Matrix variable with 4 rows and 7 columns.\n",
      "A = Variable(4, 7)"
     ],
     "language": "python",
     "metadata": {},
     "outputs": [],
     "prompt_number": 4
    },
    {
     "cell_type": "markdown",
     "metadata": {},
     "source": [
      "You can use your numeric library of choice to construct matrix and vector constants. For instance, if `x` is a CVXPY Variable in the expression `A*x + b`, `A` and `b` could be Numpy ndarrays, SciPy sparse matrices, etc. `A` and `b` could even be different types.\n",
      "\n",
      "Currently the following types may be used as constants:\n",
      "\n",
      "* Numpy ndarrays\n",
      "* Numpy matrices\n",
      "* SciPy sparse matrices\n",
      "* CVXOPT dense matrices\n",
      "* CVXOPT sparse matrices\n",
      "\n",
      "Here's an example of a CVXPY problem with vectors and matrices:"
     ]
    },
    {
     "cell_type": "code",
     "collapsed": false,
     "input": [
      "# Solves a bounded least-squares problem.\n",
      "\n",
      "from cvxpy import *\n",
      "import numpy\n",
      "\n",
      "# Problem data.\n",
      "m = 10\n",
      "n = 5\n",
      "numpy.random.seed(1)\n",
      "A = numpy.random.randn(m, n)\n",
      "b = numpy.random.randn(m)\n",
      "\n",
      "# Construct the problem.\n",
      "x = Variable(n)\n",
      "objective = Minimize(sum(square(A*x - b)))\n",
      "constraints = [0 <= x, x <= 1]\n",
      "prob = Problem(objective, constraints)\n",
      "\n",
      "print \"Optimal value\", prob.solve()\n",
      "print \"Optimal var\"\n",
      "print x.value # A numpy matrix."
     ],
     "language": "python",
     "metadata": {},
     "outputs": [
      {
       "output_type": "stream",
       "stream": "stdout",
       "text": [
        "Optimal value "
       ]
      },
      {
       "output_type": "stream",
       "stream": "stdout",
       "text": [
        "4.14133859146\n",
        "Optimal var\n",
        "[[ -2.76479783e-10]\n",
        " [  3.59742090e-10]\n",
        " [  1.34633378e-01]\n",
        " [  1.24978611e-01]\n",
        " [ -3.67846924e-11]]\n"
       ]
      }
     ],
     "prompt_number": 5
    },
    {
     "cell_type": "heading",
     "level": 2,
     "metadata": {},
     "source": [
      "Parameters"
     ]
    },
    {
     "cell_type": "markdown",
     "metadata": {},
     "source": [
      "Parameters are symbolic representations of constants. Parameters should only be used in special cases. The purpose of parameters is to change the value of a constant in a problem without reconstructing the entire problem.\n",
      "\n",
      "Parameters can be vectors or matrices, just like variables. When you create a parameter you have the option of specifying the sign of the parameter's entries (positive, negative, or unknown). The sign is unknown by default. The sign is used in [DCP convexity analysis](#disciplined-convex-programming-dcp). Parameters can be assigned a constant value any time after they are created. The constant value must have the same dimensions and sign as those specified when the parameter was created."
     ]
    },
    {
     "cell_type": "code",
     "collapsed": false,
     "input": [
      "# Positive scalar parameter.\n",
      "m = Parameter(sign=\"positive\")\n",
      "\n",
      "# Column vector parameter with unknown sign (by default).\n",
      "c = Parameter(5)\n",
      "\n",
      "# Matrix parameter with negative entries.\n",
      "G = Parameter(4, 7, sign=\"negative\")\n",
      "\n",
      "# Assigns a constant value to G.\n",
      "G.value = -numpy.ones((4, 7))"
     ],
     "language": "python",
     "metadata": {},
     "outputs": [],
     "prompt_number": "*"
    },
    {
     "cell_type": "markdown",
     "metadata": {},
     "source": [
      "Computing trade-off curves is a common use of parameters. The example below computes a trade-off curve for a LASSO problem."
     ]
    },
    {
     "cell_type": "code",
     "collapsed": false,
     "input": [
      "from cvxpy import *\n",
      "import numpy\n",
      "import matplotlib.pyplot as plt\n",
      "\n",
      "# Problem data.\n",
      "n = 15\n",
      "m = 10\n",
      "numpy.random.seed(1)\n",
      "A = numpy.random.randn(n, m)\n",
      "b = numpy.random.randn(n)\n",
      "# gamma must be positive due to DCP rules.\n",
      "gamma = Parameter(sign=\"positive\") \n",
      "\n",
      "# Construct the problem.\n",
      "x = Variable(m)\n",
      "sum_of_squares = sum(square(A*x - b))\n",
      "obj = Minimize(sum_of_squares + gamma*norm(x, 1))\n",
      "prob = Problem(obj)\n",
      "\n",
      "# Construct a trade-off curve of ||Ax-b||^2 vs. ||x||_1\n",
      "sq_penalty = []\n",
      "l1_penalty = []\n",
      "x_values = []\n",
      "gamma_vals = numpy.logspace(-4, 6)\n",
      "for val in gamma_vals:\n",
      "    gamma.value = val\n",
      "    prob.solve()\n",
      "    # Use expr.value to get the numerical value of\n",
      "    # an expression in the problem.\n",
      "    sq_penalty.append(sum_of_squares.value)\n",
      "    l1_penalty.append(norm(x, 1).value)\n",
      "    x_values.append(x.value)\n",
      "\n",
      "%matplotlib inline\n",
      "plt.rc('text', usetex=True)\n",
      "plt.rc('font', family='serif')\n",
      "plt.figure(figsize=(6,10))\n",
      "\n",
      "# Plot trade-off curve.\n",
      "plt.subplot(211)\n",
      "plt.plot(l1_penalty, sq_penalty)\n",
      "plt.xlabel(r'\\|x\\|_1', fontsize=16)\n",
      "plt.ylabel(r'\\|Ax-b\\|^2', fontsize=16)\n",
      "plt.title('Trade-Off Curve for LASSO', fontsize=16)\n",
      "\n",
      "# Plot entries of x vs. gamma.\n",
      "plt.subplot(212)\n",
      "for i in range(m):\n",
      "    plt.plot(gamma_vals, [xi[i,0] for xi in x_values])\n",
      "plt.xlabel(r'\\gamma', fontsize=16)\n",
      "plt.ylabel(r'x_{i}', fontsize=16)\n",
      "plt.xscale('log')\n",
      "plt.title(r'\\text{Entries of x vs. }\\gamma', fontsize=16)\n",
      "\n",
      "plt.tight_layout()\n",
      "plt.show()"
     ],
     "language": "python",
     "metadata": {},
     "outputs": [],
     "prompt_number": "*"
    },
    {
     "cell_type": "markdown",
     "metadata": {},
     "source": [
      "Trade-off curves can easily be computed in parallel. The code below computes in parallel the optimal x for each $\\gamma$ in the LASSO problem above."
     ]
    },
    {
     "cell_type": "code",
     "collapsed": false,
     "input": [
      "from multiprocessing import Pool\n",
      "\n",
      "# Assign a value to gamma and find the optimal x.\n",
      "def get_x(gamma_value):\n",
      "    gamma.value = gamma_value\n",
      "    result = prob.solve()\n",
      "    return x.value\n",
      "\n",
      "# Parallel computation (set to 1 process here).\n",
      "pool = Pool(processes = 1)\n",
      "x_values = pool.map(get_x, gamma_vals)"
     ],
     "language": "python",
     "metadata": {},
     "outputs": [],
     "prompt_number": "*"
    }
   ],
   "metadata": {}
  }
 ]
}