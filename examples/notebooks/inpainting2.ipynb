{
 "metadata": {
  "name": ""
 },
 "nbformat": 3,
 "nbformat_minor": 0,
 "worksheets": [
  {
   "cells": [
    {
     "cell_type": "markdown",
     "metadata": {},
     "source": [
      "# Inpainting Example\n",
      "We'll load an image and draw some 'damage' on the image. The damaged pixels will have unknown value. We'll use a least 1-norm fit of the gradient at each unknown pixel (which involves only the pixels surrounding the unknown pixels) to reconstruct the unknown pixel values in an attempt to repair the image."
     ]
    },
    {
     "cell_type": "code",
     "collapsed": false,
     "input": [
      "from scipy import misc\n",
      "import matplotlib.pyplot as plt\n",
      "import numpy as np\n",
      "\n",
      "l = misc.lena()\n",
      "l = l.astype(np.float64, copy=False)\n",
      "l = l/np.max(l) #rescale pixels into [0,1]\n",
      "\n",
      "plt.imshow(l, cmap=plt.cm.gray)\n",
      "plt.show()"
     ],
     "language": "python",
     "metadata": {},
     "outputs": [],
     "prompt_number": 3
    },
    {
     "cell_type": "markdown",
     "metadata": {},
     "source": [
      "Draw a few lines to simulate damage to the image. We'll treat the affected pixels as having an unknown value. You can adjust the number of lines and their width."
     ]
    },
    {
     "cell_type": "code",
     "collapsed": false,
     "input": [
      "from PIL import Image, ImageDraw\n",
      "\n",
      "num_lines = 1\n",
      "width = 5\n",
      "imshape = l.shape\n",
      "\n",
      "def drawRandLine(draw,width):\n",
      "    x = [np.random.randint(0,im.size[0]) for i in range(2)]\n",
      "    y = [np.random.randint(0,im.size[1]) for i in range(2)]\n",
      "    xy = zip(x,y)\n",
      "    #fill gives the color\n",
      "    draw.line(xy,fill=255,width=width)\n",
      "\n",
      "im = Image.new(\"L\",imshape)\n",
      "draw = ImageDraw.Draw(im)\n",
      "for i in range(num_lines):\n",
      "    drawRandLine(draw,width)\n",
      "del draw\n",
      "im.show()"
     ],
     "language": "python",
     "metadata": {},
     "outputs": [],
     "prompt_number": 4
    },
    {
     "cell_type": "markdown",
     "metadata": {},
     "source": [
      "Overwrite corrupted pixels and display damaged image."
     ]
    },
    {
     "cell_type": "code",
     "collapsed": false,
     "input": [
      "err = np.asarray(im,dtype=np.bool)\n",
      "r = l.copy()\n",
      "r[err] = 1.0\n",
      "plt.imshow(r, cmap=plt.cm.gray)"
     ],
     "language": "python",
     "metadata": {},
     "outputs": [
      {
       "metadata": {},
       "output_type": "pyout",
       "prompt_number": 5,
       "text": [
        "<matplotlib.image.AxesImage at 0x10c03b390>"
       ]
      }
     ],
     "prompt_number": 5
    },
    {
     "cell_type": "markdown",
     "metadata": {},
     "source": [
      "Create a list and a dictionary to represent maps between pixel coordinates and their variable index."
     ]
    },
    {
     "cell_type": "code",
     "collapsed": false,
     "input": [
      "import itertools\n",
      "idx2pair = np.nonzero(err)\n",
      "idx2pair = zip(idx2pair[0].tolist(), idx2pair[1].tolist())\n",
      "pair2idx = dict(itertools.izip(idx2pair, xrange(len(idx2pair))))\n",
      "idx2pair = np.array(idx2pair) #convert back to numpy array"
     ],
     "language": "python",
     "metadata": {},
     "outputs": [],
     "prompt_number": 6
    },
    {
     "cell_type": "markdown",
     "metadata": {},
     "source": [
      "Create sparse matrices $G_x$ and $G_y$ and arrays $b_x$, $b_y$ such that\n",
      "the x components of the pixel gradients are given by $G_x x + b_x$ and the y components\n",
      "of the pixel gradients are given by $G_y x + b_y$."
     ]
    },
    {
     "cell_type": "code",
     "collapsed": false,
     "input": [
      "import scipy.sparse as sp\n",
      "from cvxopt import spmatrix\n",
      "\n",
      "def involvedpairs(pairs):\n",
      "    ''' Get all the pixel pairs whose gradient involves an unknown pixel.\n",
      "        Input should be a set or dictionary of pixel pair tuples\n",
      "    '''\n",
      "    for pair in pairs: #loop through unknown pixels\n",
      "        yield pair \n",
      "        \n",
      "        left = (pair[0],pair[1]-1)\n",
      "        if left[1] >= 0 and left not in pairs: #if 'left' in picture, and not already unknown\n",
      "            yield left\n",
      "        \n",
      "        top = (pair[0]-1,pair[1])\n",
      "        topright = (pair[0]-1,pair[1]+1)\n",
      "        #if not on top boundary, top is fixed, and top not already touched by upper right pixel\n",
      "        if pair[0] > 0 and top not in pairs and topright not in pairs:\n",
      "            yield top\n",
      "\n",
      "def formCOO(pair2idx, img):\n",
      "    m, n = img.shape  \n",
      "    Is, Js, Vs, bs = [[],[]], [[],[]], [[],[]], [[],[]]\n",
      "    row = 0\n",
      "    \n",
      "    for pixel1 in involvedpairs(pair2idx):\n",
      "        bottom = (pixel1[0]+1,pixel1[1])\n",
      "        right= (pixel1[0],pixel1[1]+1)\n",
      "        \n",
      "        for i, pixel2 in enumerate([bottom, right]):   \n",
      "            \n",
      "            if pixel2[0] >= m or pixel2[1] >= n:\n",
      "                bs[i].append(0)\n",
      "                continue\n",
      "            \n",
      "            b = 0\n",
      "            for j, pix in enumerate([pixel2, pixel1]):\n",
      "                if pix in pair2idx: #unknown pixel\n",
      "                    Is[i].append(row)\n",
      "                    Js[i].append(pair2idx[pix])\n",
      "                    Vs[i].append(pow(-1,j))\n",
      "                else: #known pixel\n",
      "                    b += pow(-1,j)*img[pix]\n",
      "            bs[i].append(b)\n",
      "            \n",
      "        row += 1\n",
      "    \n",
      "    '''\n",
      "        Form Gx and Gy such that the x-component of the gradient is Gx*x + bx,\n",
      "        where x is an array representing the unknown pixel values.\n",
      "    '''\n",
      "    m = len(bs[0])\n",
      "    n = len(pair2idx)\n",
      "    \n",
      "    Gx = spmatrix(Vs[1], Is[1], Js[1],(m,n))\n",
      "    Gy = spmatrix(Vs[0], Is[0], Js[0],(m,n))\n",
      "\n",
      "    bx = np.array(bs[1])\n",
      "    by = np.array(bs[0])\n",
      "    \n",
      "    return Gx, Gy, bx, by\n",
      "    \n",
      "    \n",
      "Gx, Gy, bx, by = formCOO(pair2idx, r)"
     ],
     "language": "python",
     "metadata": {},
     "outputs": [],
     "prompt_number": 7
    },
    {
     "cell_type": "code",
     "collapsed": false,
     "input": [
      "Gx"
     ],
     "language": "python",
     "metadata": {},
     "outputs": [
      {
       "metadata": {},
       "output_type": "pyout",
       "prompt_number": 8,
       "text": [
        "<1445x1222 sparse matrix, tc='d', nnz=2444>"
       ]
      }
     ],
     "prompt_number": 8
    },
    {
     "cell_type": "markdown",
     "metadata": {},
     "source": [
      "# 1-norm formulation\n",
      "This is a problem that we can solve and parse easily. I minimize the absolute value of the gradient components (or the sum of the 1-norms of the gradients of each pixel). This minimizes the total variation of the resulting image. The variable $x$ contains the pixel magnitudes for the unknown pixels. After the solve, we map these back to the pixel coordinates to repair the image."
     ]
    },
    {
     "cell_type": "code",
     "collapsed": false,
     "input": [
      "%%time\n",
      "import cvxpy as cp\n",
      "\n",
      "m, n = Gx.size\n",
      "\n",
      "x = cp.Variable(n)\n",
      "objective = cp.Minimize(cp.norm(Gx*x + bx,1) + cp.norm(Gy*x + by,1) )\n",
      "p = cp.Problem(objective)\n",
      "\n",
      "result = p.solve(solver=cp.ECOS)"
     ],
     "language": "python",
     "metadata": {},
     "outputs": [
      {
       "output_type": "stream",
       "stream": "stdout",
       "text": [
        "CPU times: user 372 ms, sys: 34.7 ms, total: 406 ms\n",
        "Wall time: 405 ms\n"
       ]
      }
     ],
     "prompt_number": 9
    },
    {
     "cell_type": "markdown",
     "metadata": {},
     "source": [
      "# 2-norm formulation\n",
      "This is the problem that I would actually like to solve. This is minimizing the sum of the 2-norms of the gradients at each pixel. This involves many small second order cones, which I have to accumulate with a for loop or list comprehension. Hopefully, a 'norms' function will speed this up.\n",
      "\n",
      "Note that the code below may crash or take very long to run for anything except very small problems."
     ]
    },
    {
     "cell_type": "code",
     "collapsed": false,
     "input": [
      "%%time\n",
      "import cvxpy as cp\n",
      "m, n = Gx.size\n",
      "x = cp.Variable(n)\n",
      "z = cp.vstack((Gx*x + bx).T, (Gy*x + by).T)\n",
      "\n",
      "objective = cp.Minimize(sum([cp.norm(z[:,i]) for i in range(m)]))\n",
      "p = cp.Problem(objective)\n",
      "\n",
      "result = p.solve(solver=cp.ECOS, verbose=True)"
     ],
     "language": "python",
     "metadata": {},
     "outputs": [
      {
       "ename": "KeyboardInterrupt",
       "evalue": "",
       "output_type": "pyerr",
       "traceback": [
        "\u001b[0;31m---------------------------------------------------------------------------\u001b[0m\n\u001b[0;31mKeyboardInterrupt\u001b[0m                         Traceback (most recent call last)",
        "\u001b[0;32m<ipython-input-12-e3c2243f9c83>\u001b[0m in \u001b[0;36m<module>\u001b[0;34m()\u001b[0m\n\u001b[0;32m----> 1\u001b[0;31m \u001b[0mget_ipython\u001b[0m\u001b[0;34m(\u001b[0m\u001b[0;34m)\u001b[0m\u001b[0;34m.\u001b[0m\u001b[0mrun_cell_magic\u001b[0m\u001b[0;34m(\u001b[0m\u001b[0;34mu'time'\u001b[0m\u001b[0;34m,\u001b[0m \u001b[0;34mu''\u001b[0m\u001b[0;34m,\u001b[0m \u001b[0;34mu'import cvxpy as cp\\nm, n = Gx.size\\nx = cp.Variable(n)\\nz = cp.vstack((Gx*x + bx).T, (Gy*x + by).T)\\n\\nobjective = cp.Minimize(sum([cp.norm(z[:,i]) for i in range(m)]))\\np = cp.Problem(objective)\\n\\nresult = p.solve(solver=cp.ECOS)'\u001b[0m\u001b[0;34m)\u001b[0m\u001b[0;34m\u001b[0m\u001b[0m\n\u001b[0m",
        "\u001b[0;32m/Users/stevend2/anaconda/envs/cvxpy/lib/python2.7/site-packages/IPython/core/interactiveshell.pyc\u001b[0m in \u001b[0;36mrun_cell_magic\u001b[0;34m(self, magic_name, line, cell)\u001b[0m\n\u001b[1;32m   2120\u001b[0m             \u001b[0mmagic_arg_s\u001b[0m \u001b[0;34m=\u001b[0m \u001b[0mself\u001b[0m\u001b[0;34m.\u001b[0m\u001b[0mvar_expand\u001b[0m\u001b[0;34m(\u001b[0m\u001b[0mline\u001b[0m\u001b[0;34m,\u001b[0m \u001b[0mstack_depth\u001b[0m\u001b[0;34m)\u001b[0m\u001b[0;34m\u001b[0m\u001b[0m\n\u001b[1;32m   2121\u001b[0m             \u001b[0;32mwith\u001b[0m \u001b[0mself\u001b[0m\u001b[0;34m.\u001b[0m\u001b[0mbuiltin_trap\u001b[0m\u001b[0;34m:\u001b[0m\u001b[0;34m\u001b[0m\u001b[0m\n\u001b[0;32m-> 2122\u001b[0;31m                 \u001b[0mresult\u001b[0m \u001b[0;34m=\u001b[0m \u001b[0mfn\u001b[0m\u001b[0;34m(\u001b[0m\u001b[0mmagic_arg_s\u001b[0m\u001b[0;34m,\u001b[0m \u001b[0mcell\u001b[0m\u001b[0;34m)\u001b[0m\u001b[0;34m\u001b[0m\u001b[0m\n\u001b[0m\u001b[1;32m   2123\u001b[0m             \u001b[0;32mreturn\u001b[0m \u001b[0mresult\u001b[0m\u001b[0;34m\u001b[0m\u001b[0m\n\u001b[1;32m   2124\u001b[0m \u001b[0;34m\u001b[0m\u001b[0m\n",
        "\u001b[0;32m/Users/stevend2/anaconda/envs/cvxpy/lib/python2.7/site-packages/IPython/core/magics/execution.pyc\u001b[0m in \u001b[0;36mtime\u001b[0;34m(self, line, cell, local_ns)\u001b[0m\n",
        "\u001b[0;32m/Users/stevend2/anaconda/envs/cvxpy/lib/python2.7/site-packages/IPython/core/magic.pyc\u001b[0m in \u001b[0;36m<lambda>\u001b[0;34m(f, *a, **k)\u001b[0m\n\u001b[1;32m    189\u001b[0m     \u001b[0;31m# but it's overkill for just that one bit of state.\u001b[0m\u001b[0;34m\u001b[0m\u001b[0;34m\u001b[0m\u001b[0m\n\u001b[1;32m    190\u001b[0m     \u001b[0;32mdef\u001b[0m \u001b[0mmagic_deco\u001b[0m\u001b[0;34m(\u001b[0m\u001b[0marg\u001b[0m\u001b[0;34m)\u001b[0m\u001b[0;34m:\u001b[0m\u001b[0;34m\u001b[0m\u001b[0m\n\u001b[0;32m--> 191\u001b[0;31m         \u001b[0mcall\u001b[0m \u001b[0;34m=\u001b[0m \u001b[0;32mlambda\u001b[0m \u001b[0mf\u001b[0m\u001b[0;34m,\u001b[0m \u001b[0;34m*\u001b[0m\u001b[0ma\u001b[0m\u001b[0;34m,\u001b[0m \u001b[0;34m**\u001b[0m\u001b[0mk\u001b[0m\u001b[0;34m:\u001b[0m \u001b[0mf\u001b[0m\u001b[0;34m(\u001b[0m\u001b[0;34m*\u001b[0m\u001b[0ma\u001b[0m\u001b[0;34m,\u001b[0m \u001b[0;34m**\u001b[0m\u001b[0mk\u001b[0m\u001b[0;34m)\u001b[0m\u001b[0;34m\u001b[0m\u001b[0m\n\u001b[0m\u001b[1;32m    192\u001b[0m \u001b[0;34m\u001b[0m\u001b[0m\n\u001b[1;32m    193\u001b[0m         \u001b[0;32mif\u001b[0m \u001b[0mcallable\u001b[0m\u001b[0;34m(\u001b[0m\u001b[0marg\u001b[0m\u001b[0;34m)\u001b[0m\u001b[0;34m:\u001b[0m\u001b[0;34m\u001b[0m\u001b[0m\n",
        "\u001b[0;32m/Users/stevend2/anaconda/envs/cvxpy/lib/python2.7/site-packages/IPython/core/magics/execution.pyc\u001b[0m in \u001b[0;36mtime\u001b[0;34m(self, line, cell, local_ns)\u001b[0m\n\u001b[1;32m   1043\u001b[0m         \u001b[0;32melse\u001b[0m\u001b[0;34m:\u001b[0m\u001b[0;34m\u001b[0m\u001b[0m\n\u001b[1;32m   1044\u001b[0m             \u001b[0mst\u001b[0m \u001b[0;34m=\u001b[0m \u001b[0mclock2\u001b[0m\u001b[0;34m(\u001b[0m\u001b[0;34m)\u001b[0m\u001b[0;34m\u001b[0m\u001b[0m\n\u001b[0;32m-> 1045\u001b[0;31m             \u001b[0;32mexec\u001b[0m \u001b[0mcode\u001b[0m \u001b[0;32min\u001b[0m \u001b[0mglob\u001b[0m\u001b[0;34m,\u001b[0m \u001b[0mlocal_ns\u001b[0m\u001b[0;34m\u001b[0m\u001b[0m\n\u001b[0m\u001b[1;32m   1046\u001b[0m             \u001b[0mend\u001b[0m \u001b[0;34m=\u001b[0m \u001b[0mclock2\u001b[0m\u001b[0;34m(\u001b[0m\u001b[0;34m)\u001b[0m\u001b[0;34m\u001b[0m\u001b[0m\n\u001b[1;32m   1047\u001b[0m             \u001b[0mout\u001b[0m \u001b[0;34m=\u001b[0m \u001b[0mNone\u001b[0m\u001b[0;34m\u001b[0m\u001b[0m\n",
        "\u001b[0;32m<timed exec>\u001b[0m in \u001b[0;36m<module>\u001b[0;34m()\u001b[0m\n",
        "\u001b[0;32m/Users/stevend2/anaconda/envs/cvxpy/lib/python2.7/site-packages/cvxpy-0.1-py2.7.egg/cvxpy/problems/problem.pyc\u001b[0m in \u001b[0;36msolve\u001b[0;34m(self, *args, **kwargs)\u001b[0m\n\u001b[1;32m    255\u001b[0m             \u001b[0;32mreturn\u001b[0m \u001b[0mfunc\u001b[0m\u001b[0;34m(\u001b[0m\u001b[0mself\u001b[0m\u001b[0;34m,\u001b[0m \u001b[0;34m*\u001b[0m\u001b[0margs\u001b[0m\u001b[0;34m,\u001b[0m \u001b[0;34m**\u001b[0m\u001b[0mkwargs\u001b[0m\u001b[0;34m)\u001b[0m\u001b[0;34m\u001b[0m\u001b[0m\n\u001b[1;32m    256\u001b[0m         \u001b[0;32melse\u001b[0m\u001b[0;34m:\u001b[0m\u001b[0;34m\u001b[0m\u001b[0m\n\u001b[0;32m--> 257\u001b[0;31m             \u001b[0;32mreturn\u001b[0m \u001b[0mself\u001b[0m\u001b[0;34m.\u001b[0m\u001b[0m_solve\u001b[0m\u001b[0;34m(\u001b[0m\u001b[0;34m*\u001b[0m\u001b[0margs\u001b[0m\u001b[0;34m,\u001b[0m \u001b[0;34m**\u001b[0m\u001b[0mkwargs\u001b[0m\u001b[0;34m)\u001b[0m\u001b[0;34m\u001b[0m\u001b[0m\n\u001b[0m\u001b[1;32m    258\u001b[0m \u001b[0;34m\u001b[0m\u001b[0m\n\u001b[1;32m    259\u001b[0m     \u001b[0;34m@\u001b[0m\u001b[0mclassmethod\u001b[0m\u001b[0;34m\u001b[0m\u001b[0m\n",
        "\u001b[0;32m/Users/stevend2/anaconda/envs/cvxpy/lib/python2.7/site-packages/cvxpy-0.1-py2.7.egg/cvxpy/problems/problem.pyc\u001b[0m in \u001b[0;36m_solve\u001b[0;34m(self, solver, ignore_dcp, verbose, solver_specific_opts, expr_tree)\u001b[0m\n\u001b[1;32m    362\u001b[0m             result = self._ecos_solve(objective, constr_map, dims,\n\u001b[1;32m    363\u001b[0m                                       \u001b[0mvar_offsets\u001b[0m\u001b[0;34m,\u001b[0m \u001b[0mx_length\u001b[0m\u001b[0;34m,\u001b[0m\u001b[0;34m\u001b[0m\u001b[0m\n\u001b[0;32m--> 364\u001b[0;31m                                       verbose, solver_specific_opts)\n\u001b[0m\u001b[1;32m    365\u001b[0m         \u001b[0;32melse\u001b[0m\u001b[0;34m:\u001b[0m\u001b[0;34m\u001b[0m\u001b[0m\n\u001b[1;32m    366\u001b[0m             \u001b[0;32mraise\u001b[0m \u001b[0mException\u001b[0m\u001b[0;34m(\u001b[0m\u001b[0;34m\"Unknown solver.\"\u001b[0m\u001b[0;34m)\u001b[0m\u001b[0;34m\u001b[0m\u001b[0m\n",
        "\u001b[0;32m/Users/stevend2/anaconda/envs/cvxpy/lib/python2.7/site-packages/cvxpy-0.1-py2.7.egg/cvxpy/problems/problem.pyc\u001b[0m in \u001b[0;36m_ecos_solve\u001b[0;34m(self, objective, constr_map, dims, var_offsets, x_length, verbose, opts)\u001b[0m\n\u001b[1;32m    443\u001b[0m         \"\"\"\n\u001b[1;32m    444\u001b[0m         prob_data = self._ecos_problem_data(objective, constr_map, dims,\n\u001b[0;32m--> 445\u001b[0;31m                                             var_offsets, x_length)\n\u001b[0m\u001b[1;32m    446\u001b[0m         \u001b[0mobj_offset\u001b[0m \u001b[0;34m=\u001b[0m \u001b[0mprob_data\u001b[0m\u001b[0;34m[\u001b[0m\u001b[0;36m1\u001b[0m\u001b[0;34m]\u001b[0m\u001b[0;34m\u001b[0m\u001b[0m\n\u001b[1;32m    447\u001b[0m         \u001b[0mresults\u001b[0m \u001b[0;34m=\u001b[0m \u001b[0mecos\u001b[0m\u001b[0;34m.\u001b[0m\u001b[0msolve\u001b[0m\u001b[0;34m(\u001b[0m\u001b[0;34m*\u001b[0m\u001b[0mprob_data\u001b[0m\u001b[0;34m[\u001b[0m\u001b[0;36m0\u001b[0m\u001b[0;34m]\u001b[0m\u001b[0;34m,\u001b[0m \u001b[0mverbose\u001b[0m\u001b[0;34m=\u001b[0m\u001b[0mverbose\u001b[0m\u001b[0;34m)\u001b[0m\u001b[0;34m\u001b[0m\u001b[0m\n",
        "\u001b[0;32m/Users/stevend2/anaconda/envs/cvxpy/lib/python2.7/site-packages/cvxpy-0.1-py2.7.egg/cvxpy/problems/problem.pyc\u001b[0m in \u001b[0;36m_ecos_problem_data\u001b[0;34m(self, objective, constr_map, dims, var_offsets, x_length)\u001b[0m\n\u001b[1;32m    405\u001b[0m \u001b[0;34m\u001b[0m\u001b[0m\n\u001b[1;32m    406\u001b[0m         A, b = self._constr_matrix(constr_map[s.EQ], var_offsets, x_length,\n\u001b[0;32m--> 407\u001b[0;31m                                    self._SPARSE_INTF, self._DENSE_INTF)\n\u001b[0m\u001b[1;32m    408\u001b[0m         G, h = self._constr_matrix(constr_map[s.LEQ], var_offsets, x_length,\n\u001b[1;32m    409\u001b[0m                                    self._SPARSE_INTF, self._DENSE_INTF)\n",
        "\u001b[0;32m/Users/stevend2/anaconda/envs/cvxpy/lib/python2.7/site-packages/cvxpy-0.1-py2.7.egg/cvxpy/problems/problem.pyc\u001b[0m in \u001b[0;36m_constr_matrix\u001b[0;34m(self, constraints, var_offsets, x_length, matrix_intf, vec_intf)\u001b[0m\n\u001b[1;32m    871\u001b[0m         \u001b[0;32mfor\u001b[0m \u001b[0mconstr\u001b[0m \u001b[0;32min\u001b[0m \u001b[0mconstraints\u001b[0m\u001b[0;34m:\u001b[0m\u001b[0;34m\u001b[0m\u001b[0m\n\u001b[1;32m    872\u001b[0m             \u001b[0mcoeffs\u001b[0m \u001b[0;34m=\u001b[0m \u001b[0mop2mat\u001b[0m\u001b[0;34m.\u001b[0m\u001b[0mget_coefficients\u001b[0m\u001b[0;34m(\u001b[0m\u001b[0mconstr\u001b[0m\u001b[0;34m.\u001b[0m\u001b[0mexpr\u001b[0m\u001b[0;34m)\u001b[0m\u001b[0;34m\u001b[0m\u001b[0m\n\u001b[0;32m--> 873\u001b[0;31m             \u001b[0;32mfor\u001b[0m \u001b[0mid_\u001b[0m\u001b[0;34m,\u001b[0m \u001b[0msize\u001b[0m\u001b[0;34m,\u001b[0m \u001b[0mblock\u001b[0m \u001b[0;32min\u001b[0m \u001b[0mcoeffs\u001b[0m\u001b[0;34m:\u001b[0m\u001b[0;34m\u001b[0m\u001b[0m\n\u001b[0m\u001b[1;32m    874\u001b[0m                 \u001b[0mvert_start\u001b[0m \u001b[0;34m=\u001b[0m \u001b[0mvert_offset\u001b[0m\u001b[0;34m\u001b[0m\u001b[0m\n\u001b[1;32m    875\u001b[0m                 \u001b[0mvert_end\u001b[0m \u001b[0;34m=\u001b[0m \u001b[0mvert_start\u001b[0m \u001b[0;34m+\u001b[0m \u001b[0mconstr\u001b[0m\u001b[0;34m.\u001b[0m\u001b[0msize\u001b[0m\u001b[0;34m[\u001b[0m\u001b[0;36m0\u001b[0m\u001b[0;34m]\u001b[0m\u001b[0;34m*\u001b[0m\u001b[0mconstr\u001b[0m\u001b[0;34m.\u001b[0m\u001b[0msize\u001b[0m\u001b[0;34m[\u001b[0m\u001b[0;36m1\u001b[0m\u001b[0;34m]\u001b[0m\u001b[0;34m\u001b[0m\u001b[0m\n",
        "\u001b[0;31mKeyboardInterrupt\u001b[0m: "
       ]
      }
     ]
    },
    {
     "cell_type": "markdown",
     "metadata": {},
     "source": [
      "Insert the pixel values resulting from solving the convex problem and display the repaired image."
     ]
    },
    {
     "cell_type": "code",
     "collapsed": false,
     "input": [
      "x = np.array(x.value).flatten()\n",
      "q = r.copy()\n",
      "q[idx2pair[:,0],idx2pair[:,1]] = x\n",
      "plt.imshow(q, cmap=plt.cm.gray)"
     ],
     "language": "python",
     "metadata": {},
     "outputs": [
      {
       "metadata": {},
       "output_type": "pyout",
       "prompt_number": 11,
       "text": [
        "<matplotlib.image.AxesImage at 0x1105ea450>"
       ]
      }
     ],
     "prompt_number": 11
    },
    {
     "cell_type": "markdown",
     "metadata": {},
     "source": [
      "# Thoughts\n",
      "- verbose output for parsing and solving? it'd be great to see progress\n",
      "- for the 1-norm version, the line `objective = cp.Minimize(cp.norm(Gx*x + bx,1) + cp.norm(Gy*x + by,1) )` takes a while for large problems (like 10 lines of width 10)\n",
      "- for the 2-norm version, the bottleneck seems to be the line `objective = cp.Minimize(sum([cp.norm(z[:,i]) for i in range(m)]))` (1m35s for a problem with 5 lines of width 5)\n",
      "- for the 2-norm version, the line `z = cp.vstack((Gx*x + bx).T, (Gy*x + by).T)` takes up time (13 seconds for 5 lines of width 5). It's not the bottleneck, but it'd be great to get this to be faster, if possible."
     ]
    },
    {
     "cell_type": "code",
     "collapsed": false,
     "input": [],
     "language": "python",
     "metadata": {},
     "outputs": [],
     "prompt_number": 11
    }
   ],
   "metadata": {}
  }
 ]
}