{
 "metadata": {
  "name": ""
 },
 "nbformat": 3,
 "nbformat_minor": 0,
 "worksheets": [
  {
   "cells": [
    {
     "cell_type": "code",
     "collapsed": false,
     "input": [
      "import matplotlib.pyplot as plt\n",
      "import numpy as np\n",
      "\n",
      "def formatImage(image):\n",
      "    image = image.copy()\n",
      "    image = image.astype(numpy.float32, copy=False)\n",
      "    image = image/np.max(image)\n",
      "    if image.ndim == 2:\n",
      "        image = image.reshape((image.shape[0], image.shape[1], 1))\n",
      "    \n",
      "    return image\n",
      "\n",
      "def showImage(image):\n",
      "    tmp = np.squeeze(image)\n",
      "    if tmp.ndim == 2:\n",
      "        plt.imshow(tmp,cmap=plt.cm.gray)\n",
      "    else:\n",
      "        plt.imshow(image)"
     ],
     "language": "python",
     "metadata": {},
     "outputs": [],
     "prompt_number": 5
    },
    {
     "cell_type": "code",
     "collapsed": false,
     "input": [
      "from PIL import Image, ImageDraw\n",
      "import itertools\n",
      "\n",
      "def drawRandLine(draw,width,m,n):\n",
      "    x = [np.random.randint(0,m) for i in range(2)]\n",
      "    y = [np.random.randint(0,n) for i in range(2)]\n",
      "    xy = zip(x,y)\n",
      "    #fill gives the color\n",
      "    draw.line(xy,fill=255,width=width)\n",
      "    \n",
      "\n",
      "def drawLines(image, num_lines, width):\n",
      "    ''' Return damaged image, along with list of damaged pixels\n",
      "        should work for greyscle (m,n,1) or rbg images (m,n,3).\n",
      "        also returns dictionary mapping pixel location to variable index\n",
      "    '''\n",
      "    imshape = (image.shape[0], image.shape[1])\n",
      "    dmg = Image.new(\"L\",imshape)\n",
      "    draw = ImageDraw.Draw(dmg)\n",
      "    for i in range(num_lines):\n",
      "        drawRandLine(draw,width,imshape[0], imshape[1])\n",
      "    del draw\n",
      "\n",
      "    idx2pixel = np.array(np.nonzero(np.array(dmg).T)).T\n",
      "    dmg_image = image.copy()\n",
      "    dmg_image[idx2pixel[:,0],idx2pixel[:,1],:] = 1.0\n",
      "    pixel2idx = dict(itertools.izip(itertools.imap(tuple, idx2pixel), xrange(len(idx2pixel))))\n",
      "    \n",
      "    return dmg_image, idx2pixel, pixel2idx\n",
      "\n",
      "\n",
      "def drawText(image, fontsize, length):\n",
      "    from PIL import Image, ImageDraw, ImageFont\n",
      "    import textwrap, itertools\n",
      "    \n",
      "    imshape = (image.shape[0], image.shape[1])\n",
      "    dmg = Image.new(\"L\",imshape)\n",
      "    draw = ImageDraw.Draw(dmg)\n",
      "\n",
      "    #fontsize = 80\n",
      "    font = ImageFont.truetype(\"/Library/Fonts/Georgia.ttf\", fontsize)\n",
      "    text = \"Lorem ipsum dolor sit amet, consectetuer adipiscing elit, sed diam nonummy nibh euismod tincidunt ut laoreet dolore magna aliquam erat volutpat. Ut wisi enim ad minim veniam, quis nostrud exerci tation ullamcorper suscipit lobortis nisl ut aliquip ex ea commodo consequat. Duis autem vel eum iriure dolor in hendrerit in vulputate velit esse molestie consequat, vel illum dolore eu feugiat nulla facilisis at vero eros et accumsan et iusto odio dignissim qui blandit praesent luptatum zzril delenit augue duis dolore te feugait nulla facilisi. Nam liber tempor cum soluta nobis eleifend option congue nihil imperdiet doming id quod mazim placerat facer possim assum. Typi non habent claritatem insitam; est usus legentis in iis qui facit eorum claritatem. Investigationes demonstraverunt lectores legere me lius quod ii legunt saepius. Claritas est etiam processus dynamicus, qui sequitur mutationem consuetudium lectorum. Mirum est notare quam littera gothica, quam nunc putamus parum claram, anteposuerit litterarum formas humanitatis per seacula quarta decima et quinta decima. Eodem modo typi, qui nunc nobis videntur parum clari, fiant sollemnes in futurum.\"\n",
      "    text = text[0:length]\n",
      "    lines = textwrap.wrap(text, width = 40)\n",
      "    w, h = dmg.size\n",
      "    y_text = 200\n",
      "    for line in lines:\n",
      "        width, height = font.getsize(line)\n",
      "        draw.text((0, y_text), line, font = font, fill = 255)\n",
      "        y_text += height\n",
      "        \n",
      "        \n",
      "    idx2pixel = np.array(np.nonzero(np.array(dmg).T)).T\n",
      "    dmg_image = image.copy()\n",
      "    dmg_image[idx2pixel[:,0],idx2pixel[:,1],:] = 1.0\n",
      "    pixel2idx = dict(itertools.izip(itertools.imap(tuple, idx2pixel), xrange(len(idx2pixel))))\n",
      "    \n",
      "    return dmg_image, idx2pixel, pixel2idx"
     ],
     "language": "python",
     "metadata": {},
     "outputs": [],
     "prompt_number": 6
    },
    {
     "cell_type": "code",
     "collapsed": false,
     "input": [
      "import scipy.sparse as sp\n",
      "from cvxopt import spmatrix\n",
      "\n",
      "def involvedpairs(pairs):\n",
      "    ''' Get all the pixel pairs whose gradient involves an unknown pixel.\n",
      "        Input should be a set or dictionary of pixel pair tuples\n",
      "    '''\n",
      "    for pair in pairs: #loop through unknown pixels\n",
      "        yield pair \n",
      "        \n",
      "        left = (pair[0],pair[1]-1)\n",
      "        if left[1] >= 0 and left not in pairs: #if 'left' in picture, and not already unknown\n",
      "            yield left\n",
      "        \n",
      "        top = (pair[0]-1,pair[1])\n",
      "        topright = (pair[0]-1,pair[1]+1)\n",
      "        #if not on top boundary, top is fixed, and top not already touched by upper right pixel\n",
      "        if pair[0] > 0 and top not in pairs and topright not in pairs:\n",
      "            yield top\n",
      "\n",
      "def formCOO(pair2idx, img):\n",
      "    m, n, dim = img.shape  \n",
      "    Is, Js, Vs, bs = [[],[]], [[],[]], [[],[]], [[],[]]\n",
      "    row = 0\n",
      "    \n",
      "    for pixel1 in involvedpairs(pair2idx):\n",
      "        bottom = (pixel1[0]+1,pixel1[1])\n",
      "        right= (pixel1[0],pixel1[1]+1)\n",
      "        \n",
      "        for i, pixel2 in enumerate([bottom, right]):   \n",
      "            \n",
      "            if pixel2[0] >= m or pixel2[1] >= n:\n",
      "                bs[i].append(np.zeros(dim))\n",
      "                continue\n",
      "            \n",
      "            b = np.zeros(dim)\n",
      "            for j, pix in enumerate([pixel2, pixel1]):\n",
      "                if pix in pair2idx: #unknown pixel\n",
      "                    Is[i].append(row)\n",
      "                    Js[i].append(pair2idx[pix])\n",
      "                    Vs[i].append(pow(-1,j))\n",
      "                else: #known pixel\n",
      "                    b += pow(-1,j)*img[pix[0],pix[1],:]\n",
      "            bs[i].append(b)\n",
      "            \n",
      "        row += 1\n",
      "    \n",
      "    '''\n",
      "        Form Gx and Gy such that the x-component of the gradient is Gx*x + bx,\n",
      "        where x is an array representing the unknown pixel values.\n",
      "    '''\n",
      "    m = len(bs[0])\n",
      "    n = len(pair2idx)\n",
      "    \n",
      "    #Gx = sp.coo_matrix((Vs[1],(Is[1],Js[1])),shape=(m,n),dtype=np.double)\n",
      "    #Gy = sp.coo_matrix((Vs[0],(Is[0],Js[0])),shape=(m,n),dtype=np.double)\n",
      "    Gx = spmatrix(Vs[1], Is[1], Js[1],(m,n))\n",
      "    Gy = spmatrix(Vs[0], Is[0], Js[0],(m,n))\n",
      "\n",
      "    bx = np.array(bs[1])\n",
      "    by = np.array(bs[0])\n",
      "    \n",
      "    return Gx, Gy, bx, by"
     ],
     "language": "python",
     "metadata": {},
     "outputs": [],
     "prompt_number": 7
    },
    {
     "cell_type": "code",
     "collapsed": false,
     "input": [
      "import cvxpy as cp\n",
      "\n",
      "def repairImage(dmg_image, idx2pixel, pixel2idx):\n",
      "    Gx, Gy, bx, by = formCOO(pixel2idx, dmg_image)\n",
      "    #m, n = Gx.shape\n",
      "    m, n = Gx.size\n",
      "    \n",
      "    print \"Gx has size %d by %d\"%(m,n)\n",
      "    x = cp.Variable(n,bx.shape[1])\n",
      "    #z = cp.Variable(m,2*bx.shape[1])\n",
      "    \n",
      "    z = cp.hstack(x.__rmul__(Gx) + bx, x.__rmul__(Gy) + by)\n",
      "    #constraints = [z[:,0:bx.shape[1]] == Gx*x + bx,\n",
      "    #z[:,bx.shape[1]:2*bx.shape[1]] ==  Gy*x + by]\n",
      "    \n",
      "    objective = cp.Minimize(sum([cp.sum_squares(z[i,:]) for i in range(m)]))\n",
      "    p = cp.Problem(objective)\n",
      "    \n",
      "    result = p.solve(solver=cp.ECOS, verbose=True)\n",
      "    x = np.array(x.value)\n",
      "    \n",
      "    fix_image = dmg_image.copy()\n",
      "    fix_image[idx2pixel[:,0],idx2pixel[:,1],:] = x\n",
      "    \n",
      "    return fix_image"
     ],
     "language": "python",
     "metadata": {},
     "outputs": [],
     "prompt_number": 8
    },
    {
     "cell_type": "markdown",
     "metadata": {},
     "source": [
      "# Examples\n",
      "## Load an image"
     ]
    },
    {
     "cell_type": "code",
     "collapsed": false,
     "input": [
      "import matplotlib.cbook as cbook\n",
      "image_file = cbook.get_sample_data('lena.png')\n",
      "# images available\n",
      "#logo2.png\n",
      "#grace_hopper.png\n",
      "#lena.png\n",
      "#Minduka_Present_Blue_Pack.png\n",
      "image = plt.imread(image_file)\n",
      "image = formatImage(image)\n",
      "showImage(image)"
     ],
     "language": "python",
     "metadata": {},
     "outputs": [
      {
       "ename": "NameError",
       "evalue": "global name 'numpy' is not defined",
       "output_type": "pyerr",
       "traceback": [
        "\u001b[0;31m---------------------------------------------------------------------------\u001b[0m\n\u001b[0;31mNameError\u001b[0m                                 Traceback (most recent call last)",
        "\u001b[0;32m<ipython-input-9-7066a3edbd45>\u001b[0m in \u001b[0;36m<module>\u001b[0;34m()\u001b[0m\n\u001b[1;32m      7\u001b[0m \u001b[0;31m#Minduka_Present_Blue_Pack.png\u001b[0m\u001b[0;34m\u001b[0m\u001b[0;34m\u001b[0m\u001b[0m\n\u001b[1;32m      8\u001b[0m \u001b[0mimage\u001b[0m \u001b[0;34m=\u001b[0m \u001b[0mplt\u001b[0m\u001b[0;34m.\u001b[0m\u001b[0mimread\u001b[0m\u001b[0;34m(\u001b[0m\u001b[0mimage_file\u001b[0m\u001b[0;34m)\u001b[0m\u001b[0;34m\u001b[0m\u001b[0m\n\u001b[0;32m----> 9\u001b[0;31m \u001b[0mimage\u001b[0m \u001b[0;34m=\u001b[0m \u001b[0mformatImage\u001b[0m\u001b[0;34m(\u001b[0m\u001b[0mimage\u001b[0m\u001b[0;34m)\u001b[0m\u001b[0;34m\u001b[0m\u001b[0m\n\u001b[0m\u001b[1;32m     10\u001b[0m \u001b[0mshowImage\u001b[0m\u001b[0;34m(\u001b[0m\u001b[0mimage\u001b[0m\u001b[0;34m)\u001b[0m\u001b[0;34m\u001b[0m\u001b[0m\n",
        "\u001b[0;32m<ipython-input-5-894db765ecbf>\u001b[0m in \u001b[0;36mformatImage\u001b[0;34m(image)\u001b[0m\n\u001b[1;32m      4\u001b[0m \u001b[0;32mdef\u001b[0m \u001b[0mformatImage\u001b[0m\u001b[0;34m(\u001b[0m\u001b[0mimage\u001b[0m\u001b[0;34m)\u001b[0m\u001b[0;34m:\u001b[0m\u001b[0;34m\u001b[0m\u001b[0m\n\u001b[1;32m      5\u001b[0m     \u001b[0mimage\u001b[0m \u001b[0;34m=\u001b[0m \u001b[0mimage\u001b[0m\u001b[0;34m.\u001b[0m\u001b[0mcopy\u001b[0m\u001b[0;34m(\u001b[0m\u001b[0;34m)\u001b[0m\u001b[0;34m\u001b[0m\u001b[0m\n\u001b[0;32m----> 6\u001b[0;31m     \u001b[0mimage\u001b[0m \u001b[0;34m=\u001b[0m \u001b[0mimage\u001b[0m\u001b[0;34m.\u001b[0m\u001b[0mastype\u001b[0m\u001b[0;34m(\u001b[0m\u001b[0mnumpy\u001b[0m\u001b[0;34m.\u001b[0m\u001b[0mfloat32\u001b[0m\u001b[0;34m,\u001b[0m \u001b[0mcopy\u001b[0m\u001b[0;34m=\u001b[0m\u001b[0mFalse\u001b[0m\u001b[0;34m)\u001b[0m\u001b[0;34m\u001b[0m\u001b[0m\n\u001b[0m\u001b[1;32m      7\u001b[0m     \u001b[0mimage\u001b[0m \u001b[0;34m=\u001b[0m \u001b[0mimage\u001b[0m\u001b[0;34m/\u001b[0m\u001b[0mnp\u001b[0m\u001b[0;34m.\u001b[0m\u001b[0mmax\u001b[0m\u001b[0;34m(\u001b[0m\u001b[0mimage\u001b[0m\u001b[0;34m)\u001b[0m\u001b[0;34m\u001b[0m\u001b[0m\n\u001b[1;32m      8\u001b[0m     \u001b[0;32mif\u001b[0m \u001b[0mimage\u001b[0m\u001b[0;34m.\u001b[0m\u001b[0mndim\u001b[0m \u001b[0;34m==\u001b[0m \u001b[0;36m2\u001b[0m\u001b[0;34m:\u001b[0m\u001b[0;34m\u001b[0m\u001b[0m\n",
        "\u001b[0;31mNameError\u001b[0m: global name 'numpy' is not defined"
       ]
      }
     ],
     "prompt_number": 9
    },
    {
     "cell_type": "code",
     "collapsed": false,
     "input": [
      "from scipy import misc\n",
      "image = misc.lena()\n",
      "image = formatImage(image)\n",
      "showImage(image)"
     ],
     "language": "python",
     "metadata": {},
     "outputs": []
    },
    {
     "cell_type": "markdown",
     "metadata": {},
     "source": [
      "## make some 'damage' of lines or text"
     ]
    },
    {
     "cell_type": "code",
     "collapsed": false,
     "input": [
      "dmg_image, idx2pixel, pixel2idx = drawLines(image,3,5)\n",
      "showImage(dmg_image)"
     ],
     "language": "python",
     "metadata": {},
     "outputs": []
    },
    {
     "cell_type": "code",
     "collapsed": false,
     "input": [
      "dmg_image, idx2pixel, pixel2idx = drawText(image, 40, 100)\n",
      "showImage(dmg_image)"
     ],
     "language": "python",
     "metadata": {},
     "outputs": []
    },
    {
     "cell_type": "markdown",
     "metadata": {},
     "source": [
      "## repair the image"
     ]
    },
    {
     "cell_type": "code",
     "collapsed": false,
     "input": [
      "%%time\n",
      "fix_image = repairImage(dmg_image, idx2pixel, pixel2idx)\n",
      "showImage(fix_image)"
     ],
     "language": "python",
     "metadata": {},
     "outputs": []
    },
    {
     "cell_type": "markdown",
     "metadata": {},
     "source": [
      "# Debugging"
     ]
    },
    {
     "cell_type": "code",
     "collapsed": false,
     "input": [
      "%%time\n",
      "Gx, Gy, bx, by = formCOO(pixel2idx, dmg_image)"
     ],
     "language": "python",
     "metadata": {},
     "outputs": []
    },
    {
     "cell_type": "code",
     "collapsed": false,
     "input": [
      "%%time\n",
      "#m, n = Gx.shape\n",
      "m, n = Gx.size\n",
      "    \n",
      "print \"Gx has size %d by %d\"%(m,n)\n",
      "x = cp.Variable(n,bx.shape[1])\n",
      "#z = cp.Variable(m,2*bx.shape[1])\n",
      "tmp = Gx*x\n",
      "    \n",
      "#z = cp.hstack(x.__rmul__(Gx) + bx, x.__rmul__(Gy) + by)\n",
      "#constraints = [z[:,0:bx.shape[1]] == Gx*x + bx,\n",
      "#z[:,bx.shape[1]:2*bx.shape[1]] ==  Gy*x + by]\n",
      "    \n",
      "#"
     ],
     "language": "python",
     "metadata": {},
     "outputs": []
    },
    {
     "cell_type": "code",
     "collapsed": false,
     "input": [
      "tmp.args[0]"
     ],
     "language": "python",
     "metadata": {},
     "outputs": []
    },
    {
     "cell_type": "code",
     "collapsed": false,
     "input": [
      "%%time\n",
      "#(Gx*x)._dcp_attr\n",
      "\n",
      "objective = cp.Minimize(sum([cp.norm(z[i,:]) for i in range(m)]))\n",
      "p = cp.Problem(objective,constraints)\n",
      "result = p.solve(solver=cp.ECOS, verbose=True)\n",
      "x = np.array(x.value)\n",
      "    \n",
      "fix_image = dmg_image.copy()\n",
      "fix_image[idx2pixel[:,0],idx2pixel[:,1],:] = x"
     ],
     "language": "python",
     "metadata": {},
     "outputs": []
    },
    {
     "cell_type": "code",
     "collapsed": false,
     "input": [
      "showImage(fix_image)"
     ],
     "language": "python",
     "metadata": {},
     "outputs": []
    },
    {
     "cell_type": "code",
     "collapsed": false,
     "input": [
      "del x\n",
      "del z\n",
      "del objective\n",
      "del constraints\n",
      "del p"
     ],
     "language": "python",
     "metadata": {},
     "outputs": []
    },
    {
     "cell_type": "code",
     "collapsed": false,
     "input": [
      "Gx"
     ],
     "language": "python",
     "metadata": {},
     "outputs": []
    },
    {
     "cell_type": "code",
     "collapsed": false,
     "input": [
      "from cvxopt import spmatrix\n",
      "import cvxpy as cp\n",
      "\n",
      "n = 100000\n",
      "\n",
      "I = range(n)\n",
      "J = range(n);\n",
      "V = [1]*n\n",
      "\n",
      "A = spmatrix(V, I, J,(n,n))\n",
      "x = cp.Variable(n)\n",
      "\n",
      "tmp = A*x\n"
     ],
     "language": "python",
     "metadata": {},
     "outputs": []
    },
    {
     "cell_type": "code",
     "collapsed": false,
     "input": [],
     "language": "python",
     "metadata": {},
     "outputs": []
    },
    {
     "cell_type": "code",
     "collapsed": false,
     "input": [],
     "language": "python",
     "metadata": {},
     "outputs": []
    }
   ],
   "metadata": {}
  }
 ]
}