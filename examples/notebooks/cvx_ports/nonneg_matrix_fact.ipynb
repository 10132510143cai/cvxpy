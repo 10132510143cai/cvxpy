{
 "metadata": {
  "name": ""
 },
 "nbformat": 3,
 "nbformat_minor": 0,
 "worksheets": [
  {
   "cells": [
    {
     "cell_type": "heading",
     "level": 1,
     "metadata": {},
     "source": [
      "Nonnegative matrix factorization"
     ]
    },
    {
     "cell_type": "markdown",
     "metadata": {},
     "source": [
      "A derivative work by Judson Wilson, 6/2/2014.    \n",
      "Adapted from the CVX example of the same name, by Argyris Zymnis, Joelle Skaf and Stephen Boyd"
     ]
    },
    {
     "cell_type": "heading",
     "level": 2,
     "metadata": {},
     "source": [
      "Introduction"
     ]
    },
    {
     "cell_type": "markdown",
     "metadata": {},
     "source": [
      "We are given a matrix $A \\in \\mathbf{\\mbox{R}}^{m \\times n}$ and are interested in solving the problem:\n",
      "    \\begin{array}{ll}\n",
      "    \\mbox{minimize}   & \\| A - YX \\|_F \\\\\n",
      "    \\mbox{subject to} & Y \\succeq 0 \\\\\n",
      "                      & X \\succeq 0,\n",
      "    \\end{array}\n",
      "where $Y \\in \\mathbf{\\mbox{R}}^{m \\times k}$ and $X \\in \\mathbf{\\mbox{R}}^{k \\times n}$.\n",
      "\n",
      "This example generates a random matrix $A$ and obtains an\n",
      "*approximate* solution to the above problem by first generating\n",
      "a random initial guess for $Y$ and then alternatively minimizing\n",
      "over $X$ and $Y$ for a fixed number of iterations."
     ]
    },
    {
     "cell_type": "heading",
     "level": 2,
     "metadata": {},
     "source": [
      "Generate problem data"
     ]
    },
    {
     "cell_type": "code",
     "collapsed": false,
     "input": [
      "import cvxpy as cvx\n",
      "import numpy as np\n",
      "\n",
      "# Ensure repeatably random problem data.\n",
      "np.random.seed(0)\n",
      "\n",
      "# Generate random data matrix A.\n",
      "m = 10\n",
      "n = 10\n",
      "k = 5\n",
      "A = np.mat(np.random.rand(m, k)) * np.mat(np.random.rand(k, n))\n",
      "\n",
      "# Initialize Y randomly.\n",
      "Y_init = np.mat(np.random.rand(m, k))"
     ],
     "language": "python",
     "metadata": {},
     "outputs": [],
     "prompt_number": 82
    },
    {
     "cell_type": "heading",
     "level": 2,
     "metadata": {},
     "source": [
      "Perform alternating minimization"
     ]
    },
    {
     "cell_type": "code",
     "collapsed": false,
     "input": [
      "# Ensure same initial random Y, rather than generate new one\n",
      "# when executing this cell.\n",
      "Y = Y_init \n",
      "\n",
      "# Perform alternating minimization.\n",
      "MAX_ITERS = 30\n",
      "residual = np.zeros(MAX_ITERS)\n",
      "for iter_num in range(1, 1+MAX_ITERS):\n",
      "    # At the beginning of an iteration, X and Y are NumPy\n",
      "    # array types, NOT CVXPY variables.\n",
      "\n",
      "    # For odd iterations, treat Y constant, optimize over X.\n",
      "    if iter_num % 2 == 1:\n",
      "        X = cvx.Variable(k, n)\n",
      "        constraint = [X >= 0]\n",
      "    # For even iterations, treat X constant, optimize over Y.\n",
      "    else:\n",
      "        Y = cvx.Variable(m, k)\n",
      "        constraint = [Y >= 0]\n",
      "    \n",
      "    # Solve the problem.\n",
      "    obj = cvx.Minimize(cvx.norm(A - Y*X, 'fro'))\n",
      "    prob = cvx.Problem(obj, constraint)\n",
      "    prob.solve(solver=cvx.ECOS)\n",
      "\n",
      "    if prob.status != cvx.OPTIMAL:\n",
      "        raise Exception(\"Solver did not converge!\")\n",
      "    \n",
      "    print 'Iteration {}, residual norm {}'.format(iter_num, prob.value)\n",
      "    residual[iter_num-1] = prob.value\n",
      "\n",
      "    # Convert variable to NumPy array constant for next iteration.\n",
      "    if iter_num % 2 == 1:\n",
      "        X = X.value\n",
      "    else:\n",
      "        Y = Y.value"
     ],
     "language": "python",
     "metadata": {},
     "outputs": [
      {
       "output_type": "stream",
       "stream": "stdout",
       "text": [
        "Iteration 1, residual norm 2.76554556878\n",
        "Iteration 2, residual norm 0.58424028355\n",
        "Iteration 3, residual norm 0.464977652325\n",
        "Iteration 4, residual norm 0.304509099482\n",
        "Iteration 5, residual norm 0.210812104807\n",
        "Iteration 6, residual norm 0.149285412154"
       ]
      },
      {
       "output_type": "stream",
       "stream": "stdout",
       "text": [
        "\n",
        "Iteration 7, residual norm 0.115822729277\n",
        "Iteration 8, residual norm 0.0949166009533\n",
        "Iteration 9, residual norm 0.0810869474847\n",
        "Iteration 10, residual norm 0.0720197979793\n",
        "Iteration 11, residual norm 0.0655917199152"
       ]
      },
      {
       "output_type": "stream",
       "stream": "stdout",
       "text": [
        "\n",
        "Iteration 12, residual norm 0.0611422237619\n",
        "Iteration 13, residual norm 0.0579289476463\n",
        "Iteration 14, residual norm 0.0555556187154\n",
        "Iteration 15, residual norm 0.0536388094494\n",
        "Iteration 16, residual norm 0.0520291219472"
       ]
      },
      {
       "output_type": "stream",
       "stream": "stdout",
       "text": [
        "\n",
        "Iteration 17, residual norm 0.0506149313538\n",
        "Iteration 18, residual norm 0.0493320538706\n",
        "Iteration 19, residual norm 0.0481635960832\n",
        "Iteration 20, residual norm 0.0470769774749\n",
        "Iteration 21, residual norm 0.046070381691\n",
        "Iteration 22, residual norm 0.045121033974"
       ]
      },
      {
       "output_type": "stream",
       "stream": "stdout",
       "text": [
        "\n",
        "Iteration 23, residual norm 0.0442324247274\n",
        "Iteration 24, residual norm 0.0433871149405\n",
        "Iteration 25, residual norm 0.0425901131373\n",
        "Iteration 26, residual norm 0.0418270869927\n",
        "Iteration 27, residual norm 0.0411031114511\n",
        "Iteration 28, residual norm 0.0404061844157"
       ]
      },
      {
       "output_type": "stream",
       "stream": "stdout",
       "text": [
        "\n",
        "Iteration 29, residual norm 0.0397417255013\n",
        "Iteration 30, residual norm 0.0390991641525\n"
       ]
      }
     ],
     "prompt_number": 84
    },
    {
     "cell_type": "heading",
     "level": 2,
     "metadata": {},
     "source": [
      "Output results"
     ]
    },
    {
     "cell_type": "code",
     "collapsed": false,
     "input": [
      "#\n",
      "# Plot residuals.\n",
      "#\n",
      "\n",
      "import matplotlib.pyplot as plt\n",
      "\n",
      "# Show plot inline in ipython.\n",
      "%matplotlib inline\n",
      "\n",
      "# Set plot properties.\n",
      "plt.rc('text', usetex=True)\n",
      "plt.rc('font', family='serif')\n",
      "font = {'family' : 'normal',\n",
      "        'weight' : 'normal',\n",
      "        'size'   : 16}\n",
      "plt.rc('font', **font)\n",
      "\n",
      "# Create the plot.\n",
      "plt.plot(residual)\n",
      "plt.xlabel('Iteration Number')\n",
      "plt.ylabel('Residual Norm')\n",
      "plt.show()\n",
      "\n",
      "#\n",
      "# Print results.\n",
      "#\n",
      "print 'Original matrix:'\n",
      "print A\n",
      "print 'Left factor Y:'\n",
      "print Y\n",
      "print 'Right factor X:'\n",
      "print X\n",
      "print 'Residual A - Y * X:'\n",
      "print A - Y * X\n",
      "print 'Residual after {} iterations: {}'.format(iter_num, prob.value)\n"
     ],
     "language": "python",
     "metadata": {},
     "outputs": [
      {
       "metadata": {},
       "output_type": "display_data",
       "png": "[encoded data removed]",
       "text": [
        "<matplotlib.figure.Figure at 0x5bc5d70>"
       ]
      },
      {
       "output_type": "stream",
       "stream": "stdout",
       "text": [
        "Original matrix:\n",
        "[[ 1.323426    1.11061189  1.69137835  1.20020115  1.13216889  0.5980743\n",
        "   1.64965406  0.340611    1.69871738  0.78278448]\n",
        " [ 1.73721109  1.40464204  1.90898877  1.60774132  1.53717253  0.62647405\n",
        "   1.76242265  0.41151492  1.8048194   1.20313124]\n",
        " [ 1.4071438   1.10269406  1.75323063  1.18928983  1.23428169  0.60364688\n",
        "   1.63792853  0.40855006  1.57257432  1.17227344]\n",
        " [ 1.3905141   1.33367163  1.07723947  1.67735654  1.33039096  0.42003169\n",
        "   1.22641711  0.21470465  1.47350799  0.84931787]\n",
        " [ 1.42153652  1.13598552  2.00816457  1.11463462  1.17914429  0.69942578\n",
        "   1.90353699  0.45664487  1.81023916  1.09668578]\n",
        " [ 1.60813803  1.23214532  1.73741086  1.3148874   1.27589039  0.40755835\n",
        "   1.31904948  0.3469129   1.34256526  0.76924618]\n",
        " [ 0.90607895  0.6632877   1.25412229  0.81696721  0.87218892  0.50032884\n",
        "   1.245879    0.25079329  1.25017792  0.72155621]\n",
        " [ 1.5691922   1.47359672  1.76518996  1.66268312  1.43746574  0.72486628\n",
        "   1.97409333  0.39239642  2.09234807  1.16325748]\n",
        " [ 1.18723548  1.00282008  1.41532595  1.03836298  0.90382914  0.38460446\n",
        "   1.213473    0.23641422  1.32784402  0.27179726]\n",
        " [ 0.75789915  0.75119989  0.99502166  0.65444815  0.56073096  0.341146\n",
        "   1.02555143  0.24273668  1.01035919  0.49427978]]\n",
        "Left factor Y:\n",
        "[[  7.40733791e-01   2.82233422e-01   6.79031335e-01   6.90788473e-01\n",
        "    6.75922769e+00]\n",
        " [  6.63938209e-01   8.62626233e-01   5.47360330e-01   3.97034630e-01\n",
        "    2.15367899e+00]\n",
        " [  5.93113705e-01   6.85883833e-01   8.82088454e-01   4.29318773e-02\n",
        "    2.60309960e-08]\n",
        " [  2.54641969e-01   8.69899856e-01   2.80001362e-09   1.14277709e+00\n",
        "    4.99370987e+00]\n",
        " [  8.16905919e-01   3.74565931e-01   1.17731599e+00   2.98169167e-01\n",
        "    2.08990508e+00]\n",
        " [  7.77008630e-01   6.05794731e-01   5.95407999e-03   3.73777774e-01\n",
        "    5.91222851e-08]\n",
        " [  4.70427608e-01   3.15875940e-01   6.51147995e-01   1.50315628e-09\n",
        "    6.23841260e+00]\n",
        " [  5.88405727e-01   6.38349797e-01   9.39515175e-01   1.13949731e+00\n",
        "    6.29504103e+00]\n",
        " [  8.10830925e-01   9.66630136e-09   3.26942930e-02   1.00835999e+00\n",
        "    7.56338665e+00]\n",
        " [  4.39043996e-01   9.07748929e-02   6.43662848e-01   7.68161355e-01\n",
        "    6.93806900e-08]]\n",
        "Right factor X:\n",
        "[[  1.21318909e+00   7.66304609e-01   1.67900928e+00   6.27036474e-01\n",
        "    7.81794255e-01   2.93868166e-01   1.03280451e+00   2.96380174e-01\n",
        "    9.31327778e-01   3.01285567e-01]\n",
        " [  9.90923478e-01   8.15863125e-01   7.13498497e-01   1.15250666e+00\n",
        "    1.03765458e+00   2.82573358e-01   7.42024707e-01   1.68303084e-01\n",
        "    8.47610378e-01   8.79493895e-01]\n",
        " [  2.52399058e-04   7.84159966e-02   3.04108670e-01   1.45583101e-02\n",
        "    6.37805784e-02   2.67586672e-01   5.78159582e-01   1.23374969e-01\n",
        "    4.86409262e-01   4.40290553e-01]\n",
        " [  1.76152340e-01   3.75751854e-01   1.95255070e-10   3.45920513e-01\n",
        "    1.05679946e-01   1.82795888e-02   1.73785095e-01   9.86147078e-11\n",
        "    2.76825816e-01   2.13723288e-10]\n",
        " [  3.34278680e-03  -5.60075922e-11   5.70762776e-03   2.39669339e-02\n",
        "    2.14184853e-02   1.57636915e-02   2.39272901e-02  -7.98415544e-11\n",
        "    3.67047223e-02   1.65959648e-03]]\n",
        "Residual A - Y * X:\n",
        "[[  6.54072258e-04  -9.16370539e-05   1.22785192e-03  -3.83271555e-04\n",
        "   -8.77249610e-04  -2.32872119e-04   8.29474141e-04  -1.02040346e-02\n",
        "    1.66613334e-05   1.20083180e-03]\n",
        " [ -3.44106539e-04  -3.01023957e-05  -1.58080239e-06   3.17230084e-04\n",
        "    3.29416521e-06  -6.53393920e-05  -3.77726982e-04   2.02357909e-03\n",
        "    1.03602187e-04  -1.50086736e-04]\n",
        " [  1.41139771e-04   3.29938408e-03  -2.40611958e-04  -7.92517162e-04\n",
        "   -1.91884192e-03  -1.28274715e-03  -1.03354628e-03   8.49891703e-03\n",
        "   -2.11185094e-03   1.97098372e-03]\n",
        " [  1.58528504e-03  -5.81514660e-04   5.18763250e-04   1.27409239e-04\n",
        "    9.31437816e-04  -2.18804392e-04  -1.49019758e-04  -7.17301287e-03\n",
        "   -6.26232782e-04  -7.61234510e-04]\n",
        " [ -4.97457446e-04   3.41902614e-05  -6.40674260e-04   3.43903800e-04\n",
        "    4.58888536e-04   9.16876678e-05  -6.03948971e-04   6.23823125e-03\n",
        "    3.83072639e-05  -6.94146427e-04]\n",
        " [ -6.59920982e-04   1.55985846e-03  -1.23815546e-03   1.08109635e-04\n",
        "   -5.67399759e-05  -3.86937931e-04  -1.36260803e-03   1.39312365e-02\n",
        "   -9.29825432e-04  -2.69599742e-04]\n",
        " [  1.33439446e-03  -5.97509134e-03   5.26667605e-03  -1.05241454e-03\n",
        "    1.49325637e-03   2.48076969e-04  -1.04269217e-04  -2.21303866e-02\n",
        "   -1.38772475e-03   4.96464173e-03]\n",
        " [  7.83762076e-04   5.13986513e-05   1.45201728e-04  -6.97205387e-04\n",
        "   -1.08145672e-04   1.07553016e-04   8.73298523e-04  -5.34427099e-03\n",
        "   -2.11326803e-04   4.47697756e-04]\n",
        " [  6.28222696e-04   1.97070927e-05   8.21688465e-04  -6.17161709e-04\n",
        "   -7.18803143e-04  -8.07925220e-05   9.31357004e-04  -7.93365173e-03\n",
        "    3.97535896e-05   5.58433952e-04]\n",
        " [ -1.71090716e-04   1.58704798e-03  -2.64848863e-03  -5.60532911e-04\n",
        "    1.06345705e-03   1.97100534e-04  -8.87239514e-04   1.79231707e-02\n",
        "   -1.20688982e-03  -1.23248035e-03]]\n",
        "Residual after 30 iterations: 0.0390991641525\n"
       ]
      }
     ],
     "prompt_number": 85
    }
   ],
   "metadata": {}
  }
 ]
}