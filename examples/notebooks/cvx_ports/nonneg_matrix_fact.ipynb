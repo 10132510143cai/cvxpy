{
 "metadata": {
  "name": "",
  "signature": "sha256:9e3c63a5d7ba0e43152b02ddd7304c2c1346f68e67398f4589b2ccb5db672b32"
 },
 "nbformat": 3,
 "nbformat_minor": 0,
 "worksheets": [
  {
   "cells": [
    {
     "cell_type": "heading",
     "level": 1,
     "metadata": {},
     "source": [
      "Nonnegative matrix factorization"
     ]
    },
    {
     "cell_type": "markdown",
     "metadata": {},
     "source": [
      "A derivative work by Judson Wilson, 6/2/2014.    \n",
      "Adapted from the CVX example of the same name, by Argyris Zymnis, Joelle Skaf and Stephen Boyd"
     ]
    },
    {
     "cell_type": "heading",
     "level": 2,
     "metadata": {},
     "source": [
      "Introduction"
     ]
    },
    {
     "cell_type": "markdown",
     "metadata": {},
     "source": [
      "We are given a matrix $A \\in \\mathbf{\\mbox{R}}^{m \\times n}$ and are interested in solving the problem:\n",
      "    \\begin{array}{ll}\n",
      "    \\mbox{minimize}   & \\| A - YX \\|_F \\\\\n",
      "    \\mbox{subject to} & Y \\succeq 0 \\\\\n",
      "                      & X \\succeq 0,\n",
      "    \\end{array}\n",
      "where $Y \\in \\mathbf{\\mbox{R}}^{m \\times k}$ and $X \\in \\mathbf{\\mbox{R}}^{k \\times n}$.\n",
      "\n",
      "This example generates a random matrix $A$ and obtains an\n",
      "*approximate* solution to the above problem by first generating\n",
      "a random initial guess for $Y$ and then alternatively minimizing\n",
      "over $X$ and $Y$ for a fixed number of iterations."
     ]
    },
    {
     "cell_type": "heading",
     "level": 2,
     "metadata": {},
     "source": [
      "Generate problem data"
     ]
    },
    {
     "cell_type": "code",
     "collapsed": false,
     "input": [
      "import cvxpy as cvx\n",
      "import numpy as np\n",
      "\n",
      "# Ensure repeatably random problem data.\n",
      "np.random.seed(0)\n",
      "\n",
      "# Generate random data matrix A.\n",
      "m = 10\n",
      "n = 10\n",
      "k = 5\n",
      "A = np.random.rand(m, k).dot(np.random.rand(k, n))\n",
      "\n",
      "# Initialize Y randomly.\n",
      "Y_init = np.random.rand(m, k)"
     ],
     "language": "python",
     "metadata": {},
     "outputs": [],
     "prompt_number": 1
    },
    {
     "cell_type": "heading",
     "level": 2,
     "metadata": {},
     "source": [
      "Perform alternating minimization"
     ]
    },
    {
     "cell_type": "code",
     "collapsed": false,
     "input": [
      "# Ensure same initial random Y, rather than generate new one\n",
      "# when executing this cell.\n",
      "Y = Y_init \n",
      "\n",
      "# Perform alternating minimization.\n",
      "MAX_ITERS = 30\n",
      "residual = np.zeros(MAX_ITERS)\n",
      "for iter_num in range(1, 1+MAX_ITERS):\n",
      "    # At the beginning of an iteration, X and Y are NumPy\n",
      "    # array types, NOT CVXPY variables.\n",
      "\n",
      "    # For odd iterations, treat Y constant, optimize over X.\n",
      "    if iter_num % 2 == 1:\n",
      "        X = cvx.Variable(k, n)\n",
      "        constraint = [X >= 0]\n",
      "    # For even iterations, treat X constant, optimize over Y.\n",
      "    else:\n",
      "        Y = cvx.Variable(m, k)\n",
      "        constraint = [Y >= 0]\n",
      "    \n",
      "    # Solve the problem.\n",
      "    obj = cvx.Minimize(cvx.norm(A - Y*X, 'fro'))\n",
      "    prob = cvx.Problem(obj, constraint)\n",
      "    prob.solve(solver=cvx.ECOS)\n",
      "\n",
      "    if prob.status != cvx.OPTIMAL:\n",
      "        raise Exception(\"Solver did not converge!\")\n",
      "    \n",
      "    print 'Iteration {}, residual norm {}'.format(iter_num, prob.value)\n",
      "    residual[iter_num-1] = prob.value\n",
      "\n",
      "    # Convert variable to NumPy array constant for next iteration.\n",
      "    if iter_num % 2 == 1:\n",
      "        X = X.value\n",
      "    else:\n",
      "        Y = Y.value"
     ],
     "language": "python",
     "metadata": {},
     "outputs": [
      {
       "output_type": "stream",
       "stream": "stdout",
       "text": [
        "Iteration 1, residual norm 2.76554556878\n",
        "Iteration 2, residual norm 0.584240283242\n",
        "Iteration 3, residual norm 0.464586301154\n",
        "Iteration 4, residual norm 0.282399109832\n",
        "Iteration 5, residual norm 0.196417286098\n",
        "Iteration 6, residual norm 0.140693359436\n",
        "Iteration 7, residual norm 0.111180904296\n",
        "Iteration 8, residual norm 0.0924240621471"
       ]
      },
      {
       "output_type": "stream",
       "stream": "stdout",
       "text": [
        "\n",
        "Iteration 9, residual norm 0.0797530424384\n",
        "Iteration 10, residual norm 0.0709923199944\n",
        "Iteration 11, residual norm 0.0645091780146\n",
        "Iteration 12, residual norm 0.0597379064027\n",
        "Iteration 13, residual norm 0.0561763319566\n",
        "Iteration 14, residual norm 0.053514414713\n",
        "Iteration 15, residual norm 0.051491968698"
       ]
      },
      {
       "output_type": "stream",
       "stream": "stdout",
       "text": [
        "\n",
        "Iteration 16, residual norm 0.0498842538786\n",
        "Iteration 17, residual norm 0.0484685884594\n",
        "Iteration 18, residual norm 0.0471680835612\n",
        "Iteration 19, residual norm 0.0459632572199\n",
        "Iteration 20, residual norm 0.0448291384809\n",
        "Iteration 21, residual norm 0.0437678952917\n",
        "Iteration 22, residual norm 0.0427624521032"
       ]
      },
      {
       "output_type": "stream",
       "stream": "stdout",
       "text": [
        "\n",
        "Iteration 23, residual norm 0.0418179211121\n",
        "Iteration 24, residual norm 0.0409200813826\n",
        "Iteration 25, residual norm 0.0400742131985\n",
        "Iteration 26, residual norm 0.0392678588352\n",
        "Iteration 27, residual norm 0.0385060631085\n",
        "Iteration 28, residual norm 0.0377777840004\n",
        "Iteration 29, residual norm 0.0370877796039"
       ]
      },
      {
       "output_type": "stream",
       "stream": "stdout",
       "text": [
        "\n",
        "Iteration 30, residual norm 0.0364260174103\n"
       ]
      }
     ],
     "prompt_number": 2
    },
    {
     "cell_type": "heading",
     "level": 2,
     "metadata": {},
     "source": [
      "Output results"
     ]
    },
    {
     "cell_type": "code",
     "collapsed": false,
     "input": [
      "#\n",
      "# Plot residuals.\n",
      "#\n",
      "\n",
      "import matplotlib.pyplot as plt\n",
      "\n",
      "# Show plot inline in ipython.\n",
      "%matplotlib inline\n",
      "\n",
      "# Set plot properties.\n",
      "plt.rc('text', usetex=True)\n",
      "plt.rc('font', family='serif')\n",
      "font = {'family' : 'normal',\n",
      "        'weight' : 'normal',\n",
      "        'size'   : 16}\n",
      "plt.rc('font', **font)\n",
      "\n",
      "# Create the plot.\n",
      "plt.plot(residual)\n",
      "plt.xlabel('Iteration Number')\n",
      "plt.ylabel('Residual Norm')\n",
      "plt.show()\n",
      "\n",
      "#\n",
      "# Print results.\n",
      "#\n",
      "print 'Original matrix:'\n",
      "print A\n",
      "print 'Left factor Y:'\n",
      "print Y\n",
      "print 'Right factor X:'\n",
      "print X\n",
      "print 'Residual A - Y * X:'\n",
      "print A - Y * X\n",
      "print 'Residual after {} iterations: {}'.format(iter_num, prob.value)\n"
     ],
     "language": "python",
     "metadata": {},
     "outputs": [
      {
       "output_type": "stream",
       "stream": "stdout",
       "text": [
        "Original matrix:\n",
        "[[ 1.323426    1.11061189  1.69137835  1.20020115  1.13216889  0.5980743\n",
        "   1.64965406  0.340611    1.69871738  0.78278448]\n",
        " [ 1.73721109  1.40464204  1.90898877  1.60774132  1.53717253  0.62647405\n",
        "   1.76242265  0.41151492  1.8048194   1.20313124]\n",
        " [ 1.4071438   1.10269406  1.75323063  1.18928983  1.23428169  0.60364688\n",
        "   1.63792853  0.40855006  1.57257432  1.17227344]\n",
        " [ 1.3905141   1.33367163  1.07723947  1.67735654  1.33039096  0.42003169\n",
        "   1.22641711  0.21470465  1.47350799  0.84931787]\n",
        " [ 1.42153652  1.13598552  2.00816457  1.11463462  1.17914429  0.69942578\n",
        "   1.90353699  0.45664487  1.81023916  1.09668578]\n",
        " [ 1.60813803  1.23214532  1.73741086  1.3148874   1.27589039  0.40755835\n",
        "   1.31904948  0.3469129   1.34256526  0.76924618]\n",
        " [ 0.90607895  0.6632877   1.25412229  0.81696721  0.87218892  0.50032884\n",
        "   1.245879    0.25079329  1.25017792  0.72155621]\n",
        " [ 1.5691922   1.47359672  1.76518996  1.66268312  1.43746574  0.72486628\n",
        "   1.97409333  0.39239642  2.09234807  1.16325748]\n",
        " [ 1.18723548  1.00282008  1.41532595  1.03836298  0.90382914  0.38460446\n",
        "   1.213473    0.23641422  1.32784402  0.27179726]\n",
        " [ 0.75789915  0.75119989  0.99502166  0.65444815  0.56073096  0.341146\n",
        "   1.02555143  0.24273668  1.01035919  0.49427978]]\n",
        "Left factor Y:\n",
        "[[  7.40769064e-01   2.90156747e-01   6.49317840e-01   6.86875926e-01\n",
        "    4.15734458e+00]\n",
        " [  6.63529904e-01   8.69115331e-01   5.46305814e-01   4.01716392e-01\n",
        "    1.24683004e+00]\n",
        " [  5.94336440e-01   6.88546246e-01   8.82923988e-01   5.05510207e-02\n",
        "    3.22711653e-09]\n",
        " [  2.46651962e-01   8.87628764e-01   5.35595273e-10   1.12131629e+00\n",
        "    2.81770772e+00]\n",
        " [  8.20972162e-01   3.74590923e-01   1.16091272e+00   3.05544742e-01\n",
        "    1.35422525e+00]\n",
        " [  7.84515572e-01   5.97787326e-01   8.00723212e-03   3.96265126e-01\n",
        "    5.50254265e-09]\n",
        " [  4.66338734e-01   3.28542189e-01   6.26801905e-01   2.56095015e-10\n",
        "    3.83226565e+00]\n",
        " [  5.83272453e-01   6.54469225e-01   9.20612449e-01   1.11819359e+00\n",
        "    3.74323786e+00]\n",
        " [  8.15057630e-01   2.19328347e-09   7.85207546e-10   1.01250021e+00\n",
        "    4.65674165e+00]\n",
        " [  4.43787386e-01   8.58317667e-02   6.38603997e-01   7.66909564e-01\n",
        "    6.60544920e-09]]\n",
        "Right factor X:\n",
        "[[  1.20682527e+00   7.56813174e-01   1.66978039e+00   6.20115316e-01\n",
        "    7.81292907e-01   2.93003233e-01   1.02508718e+00   2.98937556e-01\n",
        "    9.18124568e-01   3.19810645e-01]\n",
        " [  9.88465264e-01   8.11033486e-01   7.12795372e-01   1.15004186e+00\n",
        "    1.03493067e+00   2.80818152e-01   7.37283554e-01   1.64920549e-01\n",
        "    8.46750290e-01   8.61327755e-01]\n",
        " [  5.38684775e-05   8.11876844e-02   3.06004954e-01   1.33353972e-02\n",
        "    6.08582364e-02   2.67783853e-01   5.81045392e-01   1.24383020e-01\n",
        "    4.88841351e-01   4.38219355e-01]\n",
        " [  1.79570452e-01   3.81506390e-01   8.05513486e-11   3.55398614e-01\n",
        "    1.10675973e-01   2.02892607e-02   1.78700944e-01   7.79538930e-11\n",
        "    2.85642608e-01   7.24899821e-11]\n",
        " [  4.46403773e-03  -4.38601717e-11   1.14962471e-02   3.72102971e-02\n",
        "    3.33283452e-02   2.69504348e-02   4.22238722e-02  -6.14964122e-11\n",
        "    6.23714920e-02   2.46349882e-03]]\n",
        "Residual A - Y * X:\n",
        "[[  7.01166473e-04  -1.02900109e-04   1.14596936e-03  -3.23191597e-04\n",
        "   -9.75253147e-04  -3.09994872e-04   8.05690627e-04  -9.44961699e-03\n",
        "   -5.42826920e-06   1.17332647e-03]\n",
        " [ -3.75597542e-04  -1.84389844e-05   3.20084555e-05   3.07687220e-04\n",
        "    2.48664723e-05  -5.07380994e-05  -3.99355775e-04   1.87476785e-03\n",
        "    1.21800183e-04  -1.39189953e-04]\n",
        " [  1.54485088e-04   3.49025451e-03  -1.52395356e-04  -8.64210806e-04\n",
        "   -1.99475716e-03  -1.31033381e-03  -1.02439204e-03   7.50440070e-03\n",
        "   -2.17658063e-03   2.21994759e-03]\n",
        " [  1.52445363e-03  -6.83806601e-04   2.94118000e-04   2.31649295e-04\n",
        "    1.03699034e-03  -1.89532618e-04  -2.11552386e-04  -5.41711098e-03\n",
        "   -5.89493148e-04  -1.04476080e-03]\n",
        " [ -4.78200983e-04   3.80998958e-05  -4.98876454e-04   2.79432479e-04\n",
        "    4.47283091e-04   1.16436453e-04  -5.35532011e-04   5.04989302e-03\n",
        "    5.56912111e-05  -5.85975529e-04]\n",
        " [ -6.85137448e-04   1.76029741e-03  -1.10815275e-03  -2.20217894e-05\n",
        "   -5.88338806e-05  -3.60912887e-04  -1.35165439e-03   1.28083506e-02\n",
        "   -9.98826815e-04  -4.99911789e-05]\n",
        " [  1.39589924e-03  -6.99090607e-03   5.39450133e-03  -1.01224205e-03\n",
        "    1.95425331e-03   3.00815588e-04  -4.01065907e-04  -2.07597455e-02\n",
        "   -1.60314165e-03   5.31610370e-03]\n",
        " [  8.10095427e-04   3.16001625e-05   5.25806887e-06  -6.48246288e-04\n",
        "   -1.11101198e-04   8.43664962e-05   8.64951359e-04  -4.40960646e-03\n",
        "   -2.49197459e-04   3.56581091e-04]\n",
        " [  1.00033832e-03  -3.01572218e-04   8.23647676e-04  -1.86653709e-04\n",
        "   -2.30544514e-04  -2.54150431e-04   4.07464042e-04  -7.23711843e-03\n",
        "   -1.41545548e-04  -3.38730374e-04]\n",
        " [ -2.65101906e-04   1.29563465e-03  -2.60229341e-03  -5.35964592e-04\n",
        "    1.43031479e-03   4.43870789e-04  -7.57052272e-04   1.64850527e-02\n",
        "   -1.00907618e-03  -1.42607021e-03]]\n",
        "Residual after 30 iterations: 0.0364260174103\n"
       ]
      },
      {
       "metadata": {},
       "output_type": "display_data",
       "text": [
        "<matplotlib.figure.Figure at 0x1076369d0>"
       ]
      }
     ],
     "prompt_number": 6
    }
   ],
   "metadata": {}
  }
 ]
}