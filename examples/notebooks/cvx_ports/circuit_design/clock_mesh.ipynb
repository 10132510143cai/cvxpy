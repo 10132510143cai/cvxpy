{
 "metadata": {
  "name": ""
 },
 "nbformat": 3,
 "nbformat_minor": 0,
 "worksheets": [
  {
   "cells": [
    {
     "cell_type": "heading",
     "level": 1,
     "metadata": {},
     "source": [
      "Sizing of clock meshes"
     ]
    },
    {
     "cell_type": "markdown",
     "metadata": {},
     "source": [
      "Original by Lieven Vanderberghe.<br>\n",
      "Adapted to CVX by Argyris Zymnis, 12/04/2005.<br>\n",
      "Modified by Michael Grant, 3/8/2006.<br>\n",
      "Adapted to CVXPY, with cosmetic modifications, by Judson Wilson, 05/26/2014.<br>\n",
      "\n",
      "Topic References:\n",
      "\n",
      "* Section 4, L. Vandenberghe, S. Boyd, and A. El Gamal<br>\n",
      "  \"Optimal Wire and Transistor Sizing for Circuits with Non-Tree Topology\""
     ]
    },
    {
     "cell_type": "heading",
     "level": 2,
     "metadata": {},
     "source": [
      "Introduction"
     ]
    },
    {
     "cell_type": "markdown",
     "metadata": {},
     "source": [
      "We consider the problem of sizing a clock mesh, so as to minimize the\n",
      "total dissipated power under a constraint on the dominant time constant.\n",
      "The numbers of nodes in the mesh is $N$ per row or column (thus $n=(N+1)^2$\n",
      "in total). We divide the wire into m segments of width $x_i$, $i = 1,\\dots,m$\n",
      "which is constrained as $0 \\le x_i \\le W_{\\mbox{max}}$. We use a pi-model of each wire\n",
      "segment, with capacitance $\\beta_i x_i$ and conductance $\\alpha_i x_i$.\n",
      "Defining $C(x) = C_0+x_1 C_1 + x_2 C_ 2 + \\cdots + x_m C_m$ we have that the dissipated\n",
      "power is equal to $\\mathbf{1}^T C(x) \\mathbf{1}$. Thus to minimize the\n",
      "dissipated power subject to a constraint in the widths and a constraint\n",
      "in the dominant time constant, we solve the SDP\n",
      "\n",
      "\\begin{array}{llll} %Note initial 2 columns for indenting hack\n",
      "&&\\mbox{minimize}   & \\mathbf{1}^T C(x) \\mathbf{1}   \\\\\n",
      "&&\\mbox{subject to} &  T_{\\mbox{max}} G(x) - C(x) \\succeq 0 \\\\\n",
      "&&                  & 0 \\le x_i \\le W_{\\mbox{max}}.\n",
      "\\end{array}\n"
     ]
    },
    {
     "cell_type": "heading",
     "level": 2,
     "metadata": {},
     "source": [
      "Imports and Package Setup"
     ]
    },
    {
     "cell_type": "code",
     "collapsed": false,
     "input": [
      "import cvxpy as cvx\n",
      "import numpy as np\n",
      "import scipy as scipy\n",
      "import matplotlib.pyplot as plt\n",
      "\n",
      "# Show plots inline in ipython.\n",
      "%matplotlib inline\n",
      "\n",
      "# Plot properties.\n",
      "plt.rc('text', usetex=True)\n",
      "plt.rc('font', family='serif')\n",
      "font = {'family' : 'normal',\n",
      "        'weight' : 'normal',\n",
      "        'size'   : 16}\n",
      "plt.rc('font', **font)\n"
     ],
     "language": "python",
     "metadata": {},
     "outputs": [],
     "prompt_number": 183
    },
    {
     "cell_type": "heading",
     "level": 2,
     "metadata": {},
     "source": [
      "Helper Functions"
     ]
    },
    {
     "cell_type": "code",
     "collapsed": false,
     "input": [
      "# Computes the step response of a linear system.\n",
      "def simple_step(A, B, DT, N):\n",
      "    n  = A.shape[0]\n",
      "    Ad = scipy.linalg.expm((A * DT))\n",
      "    Bd = (Ad - np.eye(n)) * B\n",
      "    Bd = np.linalg.solve(A, Bd)\n",
      "    X  = np.mat(np.zeros((n, N)))\n",
      "    for k in range(1, N):\n",
      "        X[:, k] = Ad * X[:, k-1] + Bd;\n",
      "    return X"
     ],
     "language": "python",
     "metadata": {},
     "outputs": [],
     "prompt_number": 184
    },
    {
     "cell_type": "heading",
     "level": 2,
     "metadata": {},
     "source": [
      "Generate Problem Data"
     ]
    },
    {
     "cell_type": "code",
     "collapsed": false,
     "input": [
      "#\n",
      "# Circuit parameters.\n",
      "#\n",
      "\n",
      "dim=4            # Grid is dimxdim (assume dim is even).\n",
      "n=(dim+1)**2     # Number of nodes.\n",
      "m=2*dim*(dim+1)  # Number of wires.\n",
      "                 #   0 ... dim(dim+1)-1 are horizontal segments\n",
      "                 #     (numbered rowwise);\n",
      "                 #   dim(dim+1) ... 2*dim(dim+1)-1 are vertical\n",
      "                 #     (numbered columnwise)\n",
      "beta = 0.5       # Capacitance per segment is twice beta times xi.\n",
      "alpha = 1        # Conductance per segment is alpha times xi.\n",
      "G0 = 1           # Source conductance.\n",
      "C0 = np.array([ (      10,     2,     7,     5,     3),\n",
      "                (       8,     3,     9,     5,     5),\n",
      "                (       1,     8,     4,     9,     3),\n",
      "                (       7,     3,     6,     8,     2),\n",
      "                (       5,     2,     1,     9,    10) ])\n",
      "wmax = 1        # Upper bound on x.\n",
      "\n",
      "#\n",
      "# Build capacitance and conductance matrices.\n",
      "#\n",
      "\n",
      "CC = np.zeros((dim+1, dim+1, dim+1, dim+1, m+1))\n",
      "GG = np.zeros((dim+1, dim+1, dim+1, dim+1, m+1))\n",
      "\n",
      "# Constant terms.\n",
      "# - Reshape order='F' is fortran order to match original\n",
      "#   version in MATLAB code.\n",
      "CC[:, :, :, :, 0] = np.diag(C0.flatten(1)).reshape(dim+1, dim+1,\n",
      "                                dim+1, dim+1, order='F').copy()\n",
      "zo13 = np.zeros((2, 1, 2, 1))\n",
      "zo13[:,0,:,0] = np.mat([(1, 0), (0, 1)])\n",
      "zo24 = np.zeros((1, 2, 1, 2))\n",
      "zo24[0,:,0,:] = zo13[:, 0, :, 0]\n",
      "pn13 = np.zeros((2, 1, 2, 1))\n",
      "pn13[:,0,:,0] = np.mat([(1, -1), (-1, 1)]).reshape(2, 1, 2, 1,\n",
      "                                              order='F').copy()\n",
      "pn24 = np.zeros((1, 2, 1, 2))\n",
      "pn24[0, :, 0, :] = pn13[:, 0, :, 0]\n",
      "\n",
      "for i in range(dim+1):\n",
      "    # Source conductance.\n",
      "    # First driver in the middle of row 1.\n",
      "    GG[dim/2, i, dim/2, i, 0] = G0\n",
      "    for j in range(dim):\n",
      "        # Horizontal segments.\n",
      "        node = 1 + j + i * dim\n",
      "        CC[j:j+2, i, j:j+2, i, node] = beta * zo13[:, 0, :, 0]\n",
      "        GG[j:j+2, i, j:j+2, i, node] = alpha * pn13[:, 0, :, 0]\n",
      "        # Vertical segments.\n",
      "        node = node + dim * ( dim + 1 )\n",
      "        CC[i, j:j+2, i, j:j+2, node] = beta * zo24[0, :, 0, :]\n",
      "        GG[i, j:j+2, i, j:j+2, node] = alpha * pn24[0, :, 0, :]\n",
      "\n",
      "# Reshape for ease of use.\n",
      "CC = CC.reshape((n*n, m+1), order='F').copy()\n",
      "GG = GG.reshape((n*n, m+1), order='F').copy()\n",
      "\n",
      "#\n",
      "# Compute points the tradeoff curve, and the three sample points.\n",
      "#\n",
      "\n",
      "npts    = 25 # 50 in the MATLAB CVX example, but cvxpy slower.\n",
      "delays  = np.linspace(50, 150, npts)\n",
      "xdelays = [50, 100]\n",
      "xnpts   = len(xdelays)\n",
      "areas   = np.zeros(npts)\n",
      "xareas  = dict()"
     ],
     "language": "python",
     "metadata": {},
     "outputs": [],
     "prompt_number": 185
    },
    {
     "cell_type": "heading",
     "level": 2,
     "metadata": {},
     "source": [
      "Solve Problem and Display Results"
     ]
    },
    {
     "cell_type": "code",
     "collapsed": false,
     "input": [
      "# Iterate over all points, and revisit specific points\n",
      "for i in range(npts  + xnpts):\n",
      "    # First pass, only gather minimal data from all cases.\n",
      "    if i < npts:\n",
      "        delay = delays[i]\n",
      "        print( ('Point {} of {} on the tradeoff curve ' \\\n",
      "              + '(Tmax = {})').format(i+1, npts, delay))\n",
      "    # Second pass, gather more data for specific cases,\n",
      "    # and make plots (later).\n",
      "    else:\n",
      "        xi = i - npts\n",
      "        delay = xdelays[xi]\n",
      "        print( ('Particular solution {} of {} ' \\\n",
      "              + '(Tmax = {})').format(xi+1, xnpts, delay))\n",
      "\n",
      "    #\n",
      "    # Construct and solve the convex model.\n",
      "    #\n",
      "\n",
      "    # Variables.\n",
      "    xt = cvx.Variable(m+1) # Element 1 of xt == 1 below.\n",
      "    G = cvx.Variable(n,n)  # Symmetric constraint below.\n",
      "    C = cvx.Variable(n,n)  # Symmetric constraint below.\n",
      "    \n",
      "    # Objective.\n",
      "    obj = cvx.Minimize(cvx.sum_entries(C))\n",
      "\n",
      "    # Constraints.\n",
      "    constraints = [ xt[0] == 1,\n",
      "                    G == G.T,\n",
      "                    C == C.T,\n",
      "                    delay * G - C == cvx.semidefinite(n),\n",
      "                    0 <= xt[1:] <= wmax]\n",
      "    # Constrain matrix G to equal a reshaping\n",
      "    # of column vector GG*x\n",
      "    for j in range(n):\n",
      "        constraints.append( \\\n",
      "                G[:, j] == (GG*xt)[(j*n):(j+1)*n] )\n",
      "    # Constrain matrix C to equal a reshaping\n",
      "    # of column vector CC*x\n",
      "    for j in range(n):\n",
      "        constraints.append( \\\n",
      "                C[:, j] == (CC*xt)[(j*n):(j+1)*n] )\n",
      "\n",
      "    #Solve problem\n",
      "    prob = cvx.Problem(obj, constraints)\n",
      "    prob.solve()\n",
      "    if prob.status != cvx.OPTIMAL:\n",
      "        raise Exception('CVXPY Error')\n",
      "    \n",
      "    # Chop off the first element of x, which is \n",
      "    # constrainted to be 1\n",
      "    x = xt.value[1:] \n",
      "\n",
      "    # First pass, only gather minimal data from all cases.\n",
      "    if i < npts:\n",
      "        areas[i] = sum(x)\n",
      "    # Second pass, gather more data for specific cases,\n",
      "    # and make plots.\n",
      "    else:\n",
      "        xareas[xi] = sum(x)\n",
      "\n",
      "        #\n",
      "        # Print display sizes.\n",
      "        #\n",
      "\n",
      "        print 'Solution {}:'.format(xi+1)\n",
      "        print 'Vertical segments:'\n",
      "        print x[0:dim*(dim+1)].reshape(dim, dim+1, order='F').copy()\n",
      "        print 'Horizontal segments:'\n",
      "        print x[dim*(dim+1):].reshape(dim, dim+1, order='F').copy()\n",
      "\n",
      "        #\n",
      "        # Determine and plot the step responses.\n",
      "        #\n",
      "\n",
      "        A = -np.linalg.inv(C.value)*G.value\n",
      "        B = -A*np.ones((n, 1))\n",
      "        T = np.linspace(0, 500, 2000)\n",
      "        Y = simple_step(A, B, T[1], len(T))\n",
      "        indmax = -1\n",
      "        indmin = np.inf\n",
      "        for j in range(Y.shape[0]):\n",
      "            inds = np.amin(np.nonzero(Y[j, :] >= 0.5)[1])\n",
      "            if ( inds > indmax ):\n",
      "               indmax = inds\n",
      "               jmax = j\n",
      "            if ( inds < indmin ):\n",
      "               indmin = inds\n",
      "               jmin = j\n",
      "        tthres = T[indmax]\n",
      "        GinvC  = np.linalg.solve(G.value, C.value)\n",
      "        tdom   = max(np.linalg.eig(GinvC)[0])\n",
      "        elmore = np.amax(np.sum(GinvC.T, 0))\n",
      "        plt.figure(figsize=(8, 8))\n",
      "        plt.plot( T, np.asarray(Y[jmax,:]).flatten(), '-',\n",
      "                  T, np.asarray(Y[jmin,:]).flatten() )\n",
      "        plt.plot( tdom   * np.array([1, 1]), [0, 1], '--',\n",
      "                  elmore * np.array([1, 1]), [0, 1], '--',\n",
      "                  tthres * np.array([1, 1]), [0, 1], '--' )\n",
      "        plt.xlim([0, 500])\n",
      "        plt.ylim([0, 1])\n",
      "        plt.text(tdom, 0.92, 'd')\n",
      "        plt.text(elmore, 0.88, 'e')\n",
      "        plt.text(tthres, 0.96, 't')\n",
      "        plt.text( T[600], Y[jmax, 600], 'v{}'.format(jmax+1))\n",
      "        plt.text( T[600], Y[jmin, 600], 'v{}'.format(jmin+1))\n",
      "        plt.title(('Solution {} (Tmax={}), fastest ' \\\n",
      "                    + 'and slowest step responses').format(xi+1, delay), fontsize=16)\n",
      "        plt.show()\n",
      "\n",
      "#\n",
      "# Plot the tradeoff curve.\n",
      "#\n",
      "\n",
      "plt.figure(figsize=(8, 8))\n",
      "ind = np.isfinite(areas)\n",
      "plt.plot(areas[ind], delays[ind])\n",
      "plt.xlabel('Area')\n",
      "plt.ylabel('Tdom')\n",
      "plt.title('Area-delay tradeoff curve')\n",
      "# Label the specific cases.\n",
      "for k in range(xnpts):\n",
      "    plt.text(xareas[k][0, 0], xdelays[k], '({})'.format(k+1))\n",
      "plt.show()\n"
     ],
     "language": "python",
     "metadata": {},
     "outputs": [
      {
       "output_type": "stream",
       "stream": "stdout",
       "text": [
        "Point 1 of 25 on the tradeoff curve (Tmax = 50.0)\n",
        "Point 2 of 25 on the tradeoff curve (Tmax = 54.1666666667)"
       ]
      },
      {
       "output_type": "stream",
       "stream": "stdout",
       "text": [
        "\n",
        "Point 3 of 25 on the tradeoff curve (Tmax = 58.3333333333)"
       ]
      },
      {
       "output_type": "stream",
       "stream": "stdout",
       "text": [
        "\n",
        "Point 4 of 25 on the tradeoff curve (Tmax = 62.5)"
       ]
      },
      {
       "output_type": "stream",
       "stream": "stdout",
       "text": [
        "\n",
        "Point 5 of 25 on the tradeoff curve (Tmax = 66.6666666667)"
       ]
      },
      {
       "output_type": "stream",
       "stream": "stdout",
       "text": [
        "\n",
        "Point 6 of 25 on the tradeoff curve (Tmax = 70.8333333333)"
       ]
      },
      {
       "output_type": "stream",
       "stream": "stdout",
       "text": [
        "\n",
        "Point 7 of 25 on the tradeoff curve (Tmax = 75.0)"
       ]
      },
      {
       "output_type": "stream",
       "stream": "stdout",
       "text": [
        "\n",
        "Point 8 of 25 on the tradeoff curve (Tmax = 79.1666666667)"
       ]
      },
      {
       "output_type": "stream",
       "stream": "stdout",
       "text": [
        "\n",
        "Point 9 of 25 on the tradeoff curve (Tmax = 83.3333333333)"
       ]
      },
      {
       "output_type": "stream",
       "stream": "stdout",
       "text": [
        "\n",
        "Point 10 of 25 on the tradeoff curve (Tmax = 87.5)"
       ]
      },
      {
       "output_type": "stream",
       "stream": "stdout",
       "text": [
        "\n",
        "Point 11 of 25 on the tradeoff curve (Tmax = 91.6666666667)"
       ]
      },
      {
       "output_type": "stream",
       "stream": "stdout",
       "text": [
        "\n",
        "Point 12 of 25 on the tradeoff curve (Tmax = 95.8333333333)"
       ]
      },
      {
       "output_type": "stream",
       "stream": "stdout",
       "text": [
        "\n",
        "Point 13 of 25 on the tradeoff curve (Tmax = 100.0)"
       ]
      },
      {
       "output_type": "stream",
       "stream": "stdout",
       "text": [
        "\n",
        "Point 14 of 25 on the tradeoff curve (Tmax = 104.166666667)"
       ]
      },
      {
       "output_type": "stream",
       "stream": "stdout",
       "text": [
        "\n",
        "Point 15 of 25 on the tradeoff curve (Tmax = 108.333333333)"
       ]
      },
      {
       "output_type": "stream",
       "stream": "stdout",
       "text": [
        "\n",
        "Point 16 of 25 on the tradeoff curve (Tmax = 112.5)"
       ]
      },
      {
       "output_type": "stream",
       "stream": "stdout",
       "text": [
        "\n",
        "Point 17 of 25 on the tradeoff curve (Tmax = 116.666666667)"
       ]
      },
      {
       "output_type": "stream",
       "stream": "stdout",
       "text": [
        "\n",
        "Point 18 of 25 on the tradeoff curve (Tmax = 120.833333333)"
       ]
      },
      {
       "output_type": "stream",
       "stream": "stdout",
       "text": [
        "\n",
        "Point 19 of 25 on the tradeoff curve (Tmax = 125.0)"
       ]
      },
      {
       "output_type": "stream",
       "stream": "stdout",
       "text": [
        "\n",
        "Point 20 of 25 on the tradeoff curve (Tmax = 129.166666667)"
       ]
      },
      {
       "output_type": "stream",
       "stream": "stdout",
       "text": [
        "\n",
        "Point 21 of 25 on the tradeoff curve (Tmax = 133.333333333)"
       ]
      },
      {
       "output_type": "stream",
       "stream": "stdout",
       "text": [
        "\n",
        "Point 22 of 25 on the tradeoff curve (Tmax = 137.5)"
       ]
      },
      {
       "output_type": "stream",
       "stream": "stdout",
       "text": [
        "\n",
        "Point 23 of 25 on the tradeoff curve (Tmax = 141.666666667)"
       ]
      },
      {
       "output_type": "stream",
       "stream": "stdout",
       "text": [
        "\n",
        "Point 24 of 25 on the tradeoff curve (Tmax = 145.833333333)"
       ]
      },
      {
       "output_type": "stream",
       "stream": "stdout",
       "text": [
        "\n",
        "Point 25 of 25 on the tradeoff curve (Tmax = 150.0)"
       ]
      },
      {
       "output_type": "stream",
       "stream": "stdout",
       "text": [
        "\n",
        "Particular solution 1 of 2 (Tmax = 50)"
       ]
      },
      {
       "output_type": "stream",
       "stream": "stdout",
       "text": [
        "\n",
        "Solution 1:"
       ]
      },
      {
       "output_type": "stream",
       "stream": "stdout",
       "text": [
        "\n",
        "Vertical segments:\n",
        "[[ 0.43973037  0.50355079  0.63369601  0.42394899  0.24437374]\n",
        " [ 0.99705283  0.97090044  0.99999589  0.98149979  0.46577241]\n",
        " [ 0.90179801  0.33137844  0.9999987   0.99999965  0.99999958]\n",
        " [ 0.36914051  0.12796506  0.13191145  0.74722355  0.90598923]]\n",
        "Horizontal segments:\n",
        "[[ 0.360739   -0.00361331 -0.04747065 -0.05013366  0.03110751]\n",
        " [-0.02418753  0.2758934  -0.33725155  0.108263   -0.02822799]\n",
        " [ 0.04621917  0.00655931 -0.54201874  0.5403093   0.02067859]\n",
        " [ 0.00643814 -0.10192366  0.29490032 -0.08112904  0.09280082]]\n"
       ]
      },
      {
       "metadata": {},
       "output_type": "display_data",
       "png": "[encoded data removed]",
       "text": [
        "<matplotlib.figure.Figure at 0xe3ee8f0>"
       ]
      },
      {
       "output_type": "stream",
       "stream": "stdout",
       "text": [
        "Particular solution 2 of 2 (Tmax = 100)\n",
        "Solution 2:"
       ]
      },
      {
       "output_type": "stream",
       "stream": "stdout",
       "text": [
        "\n",
        "Vertical segments:\n",
        "[[ 0.2719087   0.05243847  0.18802634  0.13711604  0.07130715]\n",
        " [ 0.44633504  0.07036115  0.34133501  0.22778547  0.14046959]\n",
        " [ 0.23834558  0.09925901  0.14487083  0.39931601  0.28606926]\n",
        " [ 0.12696222  0.05133478  0.02971336  0.23979686  0.25786552]]\n",
        "Horizontal segments:\n",
        "[[  9.75314869e-03  -1.87410356e-02  -1.19748057e-01   2.19349387e-02\n",
        "    1.44055716e-02]\n",
        " [  7.09098249e-03   1.34630028e-02  -2.64599225e-01  -2.15308170e-04\n",
        "   -4.35113287e-04]\n",
        " [  2.40320574e-02   2.76029165e-02  -2.58291154e-01   3.74699402e-02\n",
        "    6.84512559e-03]\n",
        " [  4.92605743e-03   6.67538205e-03  -2.49192230e-01  -2.50376922e-03\n",
        "    3.87645592e-02]]\n"
       ]
      },
      {
       "metadata": {},
       "output_type": "display_data",
       "png": "[encoded data removed]",
       "text": [
        "<matplotlib.figure.Figure at 0xde98330>"
       ]
      },
      {
       "metadata": {},
       "output_type": "display_data",
       "png": "[encoded data removed]",
       "text": [
        "<matplotlib.figure.Figure at 0xe413750>"
       ]
      }
     ],
     "prompt_number": 186
    }
   ],
   "metadata": {}
  }
 ]
}